{
  "metadata": {
    "kernelspec": {
      "language": "python",
      "display_name": "Python 3",
      "name": "python3"
    },
    "language_info": {
      "name": "python",
      "version": "3.7.12",
      "mimetype": "text/x-python",
      "codemirror_mode": {
        "name": "ipython",
        "version": 3
      },
      "pygments_lexer": "ipython3",
      "nbconvert_exporter": "python",
      "file_extension": ".py"
    },
    "colab": {
      "provenance": []
    }
  },
  "nbformat_minor": 0,
  "nbformat": 4,
  "cells": [
    {
      "cell_type": "markdown",
      "source": [
        "# Import the main libiraries"
      ],
      "metadata": {
        "id": "1zyEDCUa4eO9"
      }
    },
    {
      "cell_type": "code",
      "source": [
        "# Most important\n",
        "import numpy as np\n",
        "import pandas as pd \n",
        "import matplotlib.pyplot as plt\n",
        "import seaborn as sns\n",
        "from sklearn import preprocessing\n",
        "from sklearn.preprocessing import LabelEncoder\n",
        "import missingno as msno\n",
        "import os"
      ],
      "metadata": {
        "execution": {
          "iopub.status.busy": "2022-09-12T13:24:48.464212Z",
          "iopub.execute_input": "2022-09-12T13:24:48.465179Z",
          "iopub.status.idle": "2022-09-12T13:24:48.472316Z",
          "shell.execute_reply.started": "2022-09-12T13:24:48.465120Z",
          "shell.execute_reply": "2022-09-12T13:24:48.471322Z"
        },
        "trusted": true,
        "id": "BE05PjY94ePF"
      },
      "execution_count": null,
      "outputs": []
    },
    {
      "cell_type": "markdown",
      "source": [
        "# Load the DataSet"
      ],
      "metadata": {
        "id": "Lthd95iR4ePL"
      }
    },
    {
      "cell_type": "code",
      "source": [
        "## Read the Csv file\n",
        "data = pd.read_csv(\"https://www.dropbox.com/s/aa37fjiyy63l2h7/UsedCarPrice.csv?dl=1\")"
      ],
      "metadata": {
        "execution": {
          "iopub.status.busy": "2022-09-12T13:24:48.498768Z",
          "iopub.execute_input": "2022-09-12T13:24:48.499716Z",
          "iopub.status.idle": "2022-09-12T13:24:48.513327Z",
          "shell.execute_reply.started": "2022-09-12T13:24:48.499661Z",
          "shell.execute_reply": "2022-09-12T13:24:48.512097Z"
        },
        "trusted": true,
        "id": "A4-jAU4c4ePO"
      },
      "execution_count": null,
      "outputs": []
    },
    {
      "cell_type": "code",
      "source": [
        "df_cars=data.copy()"
      ],
      "metadata": {
        "execution": {
          "iopub.status.busy": "2022-09-12T13:24:48.517612Z",
          "iopub.execute_input": "2022-09-12T13:24:48.517988Z",
          "iopub.status.idle": "2022-09-12T13:24:48.525543Z",
          "shell.execute_reply.started": "2022-09-12T13:24:48.517953Z",
          "shell.execute_reply": "2022-09-12T13:24:48.523869Z"
        },
        "trusted": true,
        "id": "qN_rg9fQ4ePQ"
      },
      "execution_count": null,
      "outputs": []
    },
    {
      "cell_type": "markdown",
      "source": [
        "# inspect the Data"
      ],
      "metadata": {
        "id": "lFPwTbwR4ePR"
      }
    },
    {
      "cell_type": "code",
      "source": [
        "# Summary to all colums \n",
        "def check(df):\n",
        "    l=[]\n",
        "    columns=df.columns\n",
        "    for col in columns:\n",
        "        dtypes=df[col].dtypes\n",
        "        nunique=df[col].nunique()\n",
        "        sum_null=df[col].isnull().sum()\n",
        "        l.append([col,dtypes,nunique,sum_null])\n",
        "    df_check=pd.DataFrame(l)\n",
        "    df_check.columns=['column','dtypes','nunique','sum_null']\n",
        "    return df_check \n",
        "check(df_cars)"
      ],
      "metadata": {
        "execution": {
          "iopub.status.busy": "2022-09-12T13:24:48.529745Z",
          "iopub.execute_input": "2022-09-12T13:24:48.530660Z",
          "iopub.status.idle": "2022-09-12T13:24:48.565304Z",
          "shell.execute_reply.started": "2022-09-12T13:24:48.530610Z",
          "shell.execute_reply": "2022-09-12T13:24:48.564345Z"
        },
        "trusted": true,
        "colab": {
          "base_uri": "https://localhost:8080/",
          "height": 331
        },
        "id": "2Sy8MA9x4ePT",
        "outputId": "849ecabd-bdc1-4dc9-a085-dfd32c7d2877"
      },
      "execution_count": null,
      "outputs": [
        {
          "output_type": "execute_result",
          "data": {
            "text/plain": [
              "          column  dtypes  nunique  sum_null\n",
              "0          Brand  object       29         0\n",
              "1          Model  object     1491         0\n",
              "2           Year   int64       27         0\n",
              "3  Selling_Price   int64      445         0\n",
              "4      KM_Driven   int64      770         0\n",
              "5           Fuel  object        5         0\n",
              "6    Seller_Type  object        3         0\n",
              "7   Transmission  object        2         0\n",
              "8          Owner  object        5         0"
            ],
            "text/html": [
              "\n",
              "  <div id=\"df-1821c998-9480-4c8a-b27c-02af8ffcf486\">\n",
              "    <div class=\"colab-df-container\">\n",
              "      <div>\n",
              "<style scoped>\n",
              "    .dataframe tbody tr th:only-of-type {\n",
              "        vertical-align: middle;\n",
              "    }\n",
              "\n",
              "    .dataframe tbody tr th {\n",
              "        vertical-align: top;\n",
              "    }\n",
              "\n",
              "    .dataframe thead th {\n",
              "        text-align: right;\n",
              "    }\n",
              "</style>\n",
              "<table border=\"1\" class=\"dataframe\">\n",
              "  <thead>\n",
              "    <tr style=\"text-align: right;\">\n",
              "      <th></th>\n",
              "      <th>column</th>\n",
              "      <th>dtypes</th>\n",
              "      <th>nunique</th>\n",
              "      <th>sum_null</th>\n",
              "    </tr>\n",
              "  </thead>\n",
              "  <tbody>\n",
              "    <tr>\n",
              "      <th>0</th>\n",
              "      <td>Brand</td>\n",
              "      <td>object</td>\n",
              "      <td>29</td>\n",
              "      <td>0</td>\n",
              "    </tr>\n",
              "    <tr>\n",
              "      <th>1</th>\n",
              "      <td>Model</td>\n",
              "      <td>object</td>\n",
              "      <td>1491</td>\n",
              "      <td>0</td>\n",
              "    </tr>\n",
              "    <tr>\n",
              "      <th>2</th>\n",
              "      <td>Year</td>\n",
              "      <td>int64</td>\n",
              "      <td>27</td>\n",
              "      <td>0</td>\n",
              "    </tr>\n",
              "    <tr>\n",
              "      <th>3</th>\n",
              "      <td>Selling_Price</td>\n",
              "      <td>int64</td>\n",
              "      <td>445</td>\n",
              "      <td>0</td>\n",
              "    </tr>\n",
              "    <tr>\n",
              "      <th>4</th>\n",
              "      <td>KM_Driven</td>\n",
              "      <td>int64</td>\n",
              "      <td>770</td>\n",
              "      <td>0</td>\n",
              "    </tr>\n",
              "    <tr>\n",
              "      <th>5</th>\n",
              "      <td>Fuel</td>\n",
              "      <td>object</td>\n",
              "      <td>5</td>\n",
              "      <td>0</td>\n",
              "    </tr>\n",
              "    <tr>\n",
              "      <th>6</th>\n",
              "      <td>Seller_Type</td>\n",
              "      <td>object</td>\n",
              "      <td>3</td>\n",
              "      <td>0</td>\n",
              "    </tr>\n",
              "    <tr>\n",
              "      <th>7</th>\n",
              "      <td>Transmission</td>\n",
              "      <td>object</td>\n",
              "      <td>2</td>\n",
              "      <td>0</td>\n",
              "    </tr>\n",
              "    <tr>\n",
              "      <th>8</th>\n",
              "      <td>Owner</td>\n",
              "      <td>object</td>\n",
              "      <td>5</td>\n",
              "      <td>0</td>\n",
              "    </tr>\n",
              "  </tbody>\n",
              "</table>\n",
              "</div>\n",
              "      <button class=\"colab-df-convert\" onclick=\"convertToInteractive('df-1821c998-9480-4c8a-b27c-02af8ffcf486')\"\n",
              "              title=\"Convert this dataframe to an interactive table.\"\n",
              "              style=\"display:none;\">\n",
              "        \n",
              "  <svg xmlns=\"http://www.w3.org/2000/svg\" height=\"24px\"viewBox=\"0 0 24 24\"\n",
              "       width=\"24px\">\n",
              "    <path d=\"M0 0h24v24H0V0z\" fill=\"none\"/>\n",
              "    <path d=\"M18.56 5.44l.94 2.06.94-2.06 2.06-.94-2.06-.94-.94-2.06-.94 2.06-2.06.94zm-11 1L8.5 8.5l.94-2.06 2.06-.94-2.06-.94L8.5 2.5l-.94 2.06-2.06.94zm10 10l.94 2.06.94-2.06 2.06-.94-2.06-.94-.94-2.06-.94 2.06-2.06.94z\"/><path d=\"M17.41 7.96l-1.37-1.37c-.4-.4-.92-.59-1.43-.59-.52 0-1.04.2-1.43.59L10.3 9.45l-7.72 7.72c-.78.78-.78 2.05 0 2.83L4 21.41c.39.39.9.59 1.41.59.51 0 1.02-.2 1.41-.59l7.78-7.78 2.81-2.81c.8-.78.8-2.07 0-2.86zM5.41 20L4 18.59l7.72-7.72 1.47 1.35L5.41 20z\"/>\n",
              "  </svg>\n",
              "      </button>\n",
              "      \n",
              "  <style>\n",
              "    .colab-df-container {\n",
              "      display:flex;\n",
              "      flex-wrap:wrap;\n",
              "      gap: 12px;\n",
              "    }\n",
              "\n",
              "    .colab-df-convert {\n",
              "      background-color: #E8F0FE;\n",
              "      border: none;\n",
              "      border-radius: 50%;\n",
              "      cursor: pointer;\n",
              "      display: none;\n",
              "      fill: #1967D2;\n",
              "      height: 32px;\n",
              "      padding: 0 0 0 0;\n",
              "      width: 32px;\n",
              "    }\n",
              "\n",
              "    .colab-df-convert:hover {\n",
              "      background-color: #E2EBFA;\n",
              "      box-shadow: 0px 1px 2px rgba(60, 64, 67, 0.3), 0px 1px 3px 1px rgba(60, 64, 67, 0.15);\n",
              "      fill: #174EA6;\n",
              "    }\n",
              "\n",
              "    [theme=dark] .colab-df-convert {\n",
              "      background-color: #3B4455;\n",
              "      fill: #D2E3FC;\n",
              "    }\n",
              "\n",
              "    [theme=dark] .colab-df-convert:hover {\n",
              "      background-color: #434B5C;\n",
              "      box-shadow: 0px 1px 3px 1px rgba(0, 0, 0, 0.15);\n",
              "      filter: drop-shadow(0px 1px 2px rgba(0, 0, 0, 0.3));\n",
              "      fill: #FFFFFF;\n",
              "    }\n",
              "  </style>\n",
              "\n",
              "      <script>\n",
              "        const buttonEl =\n",
              "          document.querySelector('#df-1821c998-9480-4c8a-b27c-02af8ffcf486 button.colab-df-convert');\n",
              "        buttonEl.style.display =\n",
              "          google.colab.kernel.accessAllowed ? 'block' : 'none';\n",
              "\n",
              "        async function convertToInteractive(key) {\n",
              "          const element = document.querySelector('#df-1821c998-9480-4c8a-b27c-02af8ffcf486');\n",
              "          const dataTable =\n",
              "            await google.colab.kernel.invokeFunction('convertToInteractive',\n",
              "                                                     [key], {});\n",
              "          if (!dataTable) return;\n",
              "\n",
              "          const docLinkHtml = 'Like what you see? Visit the ' +\n",
              "            '<a target=\"_blank\" href=https://colab.research.google.com/notebooks/data_table.ipynb>data table notebook</a>'\n",
              "            + ' to learn more about interactive tables.';\n",
              "          element.innerHTML = '';\n",
              "          dataTable['output_type'] = 'display_data';\n",
              "          await google.colab.output.renderOutput(dataTable, element);\n",
              "          const docLink = document.createElement('div');\n",
              "          docLink.innerHTML = docLinkHtml;\n",
              "          element.appendChild(docLink);\n",
              "        }\n",
              "      </script>\n",
              "    </div>\n",
              "  </div>\n",
              "  "
            ]
          },
          "metadata": {},
          "execution_count": 4
        }
      ]
    },
    {
      "cell_type": "code",
      "source": [
        "# Show the head of the dataFrame \n",
        "df_cars.head()"
      ],
      "metadata": {
        "execution": {
          "iopub.status.busy": "2022-09-12T13:24:48.568923Z",
          "iopub.execute_input": "2022-09-12T13:24:48.570412Z",
          "iopub.status.idle": "2022-09-12T13:24:48.623092Z",
          "shell.execute_reply.started": "2022-09-12T13:24:48.570365Z",
          "shell.execute_reply": "2022-09-12T13:24:48.622026Z"
        },
        "trusted": true,
        "colab": {
          "base_uri": "https://localhost:8080/",
          "height": 478
        },
        "id": "zjHTEOYc4ePW",
        "outputId": "5104e41b-77e3-479a-cf58-17ac231e9573"
      },
      "execution_count": null,
      "outputs": [
        {
          "output_type": "execute_result",
          "data": {
            "text/plain": [
              "     Brand                     Model  Year  Selling_Price  KM_Driven    Fuel  \\\n",
              "0   Maruti             Maruti 800 AC  2007          60000      70000  Petrol   \n",
              "1   Maruti  Maruti Wagon R LXI Minor  2007         135000      50000  Petrol   \n",
              "2  Hyundai      Hyundai Verna 1.6 SX  2012         600000     100000  Diesel   \n",
              "3   Datsun    Datsun RediGO T Option  2017         250000      46000  Petrol   \n",
              "4    Honda     Honda Amaze VX i-DTEC  2014         450000     141000  Diesel   \n",
              "\n",
              "  Seller_Type Transmission         Owner  \n",
              "0  Individual       Manual   First Owner  \n",
              "1  Individual       Manual   First Owner  \n",
              "2  Individual       Manual   First Owner  \n",
              "3  Individual       Manual   First Owner  \n",
              "4  Individual       Manual  Second Owner  "
            ],
            "text/html": [
              "\n",
              "  <div id=\"df-2f498393-a0c9-493f-aa03-82f360c946c3\">\n",
              "    <div class=\"colab-df-container\">\n",
              "      <div>\n",
              "<style scoped>\n",
              "    .dataframe tbody tr th:only-of-type {\n",
              "        vertical-align: middle;\n",
              "    }\n",
              "\n",
              "    .dataframe tbody tr th {\n",
              "        vertical-align: top;\n",
              "    }\n",
              "\n",
              "    .dataframe thead th {\n",
              "        text-align: right;\n",
              "    }\n",
              "</style>\n",
              "<table border=\"1\" class=\"dataframe\">\n",
              "  <thead>\n",
              "    <tr style=\"text-align: right;\">\n",
              "      <th></th>\n",
              "      <th>Brand</th>\n",
              "      <th>Model</th>\n",
              "      <th>Year</th>\n",
              "      <th>Selling_Price</th>\n",
              "      <th>KM_Driven</th>\n",
              "      <th>Fuel</th>\n",
              "      <th>Seller_Type</th>\n",
              "      <th>Transmission</th>\n",
              "      <th>Owner</th>\n",
              "    </tr>\n",
              "  </thead>\n",
              "  <tbody>\n",
              "    <tr>\n",
              "      <th>0</th>\n",
              "      <td>Maruti</td>\n",
              "      <td>Maruti 800 AC</td>\n",
              "      <td>2007</td>\n",
              "      <td>60000</td>\n",
              "      <td>70000</td>\n",
              "      <td>Petrol</td>\n",
              "      <td>Individual</td>\n",
              "      <td>Manual</td>\n",
              "      <td>First Owner</td>\n",
              "    </tr>\n",
              "    <tr>\n",
              "      <th>1</th>\n",
              "      <td>Maruti</td>\n",
              "      <td>Maruti Wagon R LXI Minor</td>\n",
              "      <td>2007</td>\n",
              "      <td>135000</td>\n",
              "      <td>50000</td>\n",
              "      <td>Petrol</td>\n",
              "      <td>Individual</td>\n",
              "      <td>Manual</td>\n",
              "      <td>First Owner</td>\n",
              "    </tr>\n",
              "    <tr>\n",
              "      <th>2</th>\n",
              "      <td>Hyundai</td>\n",
              "      <td>Hyundai Verna 1.6 SX</td>\n",
              "      <td>2012</td>\n",
              "      <td>600000</td>\n",
              "      <td>100000</td>\n",
              "      <td>Diesel</td>\n",
              "      <td>Individual</td>\n",
              "      <td>Manual</td>\n",
              "      <td>First Owner</td>\n",
              "    </tr>\n",
              "    <tr>\n",
              "      <th>3</th>\n",
              "      <td>Datsun</td>\n",
              "      <td>Datsun RediGO T Option</td>\n",
              "      <td>2017</td>\n",
              "      <td>250000</td>\n",
              "      <td>46000</td>\n",
              "      <td>Petrol</td>\n",
              "      <td>Individual</td>\n",
              "      <td>Manual</td>\n",
              "      <td>First Owner</td>\n",
              "    </tr>\n",
              "    <tr>\n",
              "      <th>4</th>\n",
              "      <td>Honda</td>\n",
              "      <td>Honda Amaze VX i-DTEC</td>\n",
              "      <td>2014</td>\n",
              "      <td>450000</td>\n",
              "      <td>141000</td>\n",
              "      <td>Diesel</td>\n",
              "      <td>Individual</td>\n",
              "      <td>Manual</td>\n",
              "      <td>Second Owner</td>\n",
              "    </tr>\n",
              "  </tbody>\n",
              "</table>\n",
              "</div>\n",
              "      <button class=\"colab-df-convert\" onclick=\"convertToInteractive('df-2f498393-a0c9-493f-aa03-82f360c946c3')\"\n",
              "              title=\"Convert this dataframe to an interactive table.\"\n",
              "              style=\"display:none;\">\n",
              "        \n",
              "  <svg xmlns=\"http://www.w3.org/2000/svg\" height=\"24px\"viewBox=\"0 0 24 24\"\n",
              "       width=\"24px\">\n",
              "    <path d=\"M0 0h24v24H0V0z\" fill=\"none\"/>\n",
              "    <path d=\"M18.56 5.44l.94 2.06.94-2.06 2.06-.94-2.06-.94-.94-2.06-.94 2.06-2.06.94zm-11 1L8.5 8.5l.94-2.06 2.06-.94-2.06-.94L8.5 2.5l-.94 2.06-2.06.94zm10 10l.94 2.06.94-2.06 2.06-.94-2.06-.94-.94-2.06-.94 2.06-2.06.94z\"/><path d=\"M17.41 7.96l-1.37-1.37c-.4-.4-.92-.59-1.43-.59-.52 0-1.04.2-1.43.59L10.3 9.45l-7.72 7.72c-.78.78-.78 2.05 0 2.83L4 21.41c.39.39.9.59 1.41.59.51 0 1.02-.2 1.41-.59l7.78-7.78 2.81-2.81c.8-.78.8-2.07 0-2.86zM5.41 20L4 18.59l7.72-7.72 1.47 1.35L5.41 20z\"/>\n",
              "  </svg>\n",
              "      </button>\n",
              "      \n",
              "  <style>\n",
              "    .colab-df-container {\n",
              "      display:flex;\n",
              "      flex-wrap:wrap;\n",
              "      gap: 12px;\n",
              "    }\n",
              "\n",
              "    .colab-df-convert {\n",
              "      background-color: #E8F0FE;\n",
              "      border: none;\n",
              "      border-radius: 50%;\n",
              "      cursor: pointer;\n",
              "      display: none;\n",
              "      fill: #1967D2;\n",
              "      height: 32px;\n",
              "      padding: 0 0 0 0;\n",
              "      width: 32px;\n",
              "    }\n",
              "\n",
              "    .colab-df-convert:hover {\n",
              "      background-color: #E2EBFA;\n",
              "      box-shadow: 0px 1px 2px rgba(60, 64, 67, 0.3), 0px 1px 3px 1px rgba(60, 64, 67, 0.15);\n",
              "      fill: #174EA6;\n",
              "    }\n",
              "\n",
              "    [theme=dark] .colab-df-convert {\n",
              "      background-color: #3B4455;\n",
              "      fill: #D2E3FC;\n",
              "    }\n",
              "\n",
              "    [theme=dark] .colab-df-convert:hover {\n",
              "      background-color: #434B5C;\n",
              "      box-shadow: 0px 1px 3px 1px rgba(0, 0, 0, 0.15);\n",
              "      filter: drop-shadow(0px 1px 2px rgba(0, 0, 0, 0.3));\n",
              "      fill: #FFFFFF;\n",
              "    }\n",
              "  </style>\n",
              "\n",
              "      <script>\n",
              "        const buttonEl =\n",
              "          document.querySelector('#df-2f498393-a0c9-493f-aa03-82f360c946c3 button.colab-df-convert');\n",
              "        buttonEl.style.display =\n",
              "          google.colab.kernel.accessAllowed ? 'block' : 'none';\n",
              "\n",
              "        async function convertToInteractive(key) {\n",
              "          const element = document.querySelector('#df-2f498393-a0c9-493f-aa03-82f360c946c3');\n",
              "          const dataTable =\n",
              "            await google.colab.kernel.invokeFunction('convertToInteractive',\n",
              "                                                     [key], {});\n",
              "          if (!dataTable) return;\n",
              "\n",
              "          const docLinkHtml = 'Like what you see? Visit the ' +\n",
              "            '<a target=\"_blank\" href=https://colab.research.google.com/notebooks/data_table.ipynb>data table notebook</a>'\n",
              "            + ' to learn more about interactive tables.';\n",
              "          element.innerHTML = '';\n",
              "          dataTable['output_type'] = 'display_data';\n",
              "          await google.colab.output.renderOutput(dataTable, element);\n",
              "          const docLink = document.createElement('div');\n",
              "          docLink.innerHTML = docLinkHtml;\n",
              "          element.appendChild(docLink);\n",
              "        }\n",
              "      </script>\n",
              "    </div>\n",
              "  </div>\n",
              "  "
            ]
          },
          "metadata": {},
          "execution_count": 5
        }
      ]
    },
    {
      "cell_type": "code",
      "source": [
        "## Some statistics on data \n",
        "df_cars.describe()"
      ],
      "metadata": {
        "execution": {
          "iopub.status.busy": "2022-09-12T13:24:48.626183Z",
          "iopub.execute_input": "2022-09-12T13:24:48.627015Z",
          "iopub.status.idle": "2022-09-12T13:24:48.722234Z",
          "shell.execute_reply.started": "2022-09-12T13:24:48.626962Z",
          "shell.execute_reply": "2022-09-12T13:24:48.720904Z"
        },
        "trusted": true,
        "colab": {
          "base_uri": "https://localhost:8080/",
          "height": 344
        },
        "id": "HXfx7Fsq4ePY",
        "outputId": "c751da11-8657-4234-ed5c-b40d68a7b4e8"
      },
      "execution_count": null,
      "outputs": [
        {
          "output_type": "execute_result",
          "data": {
            "text/plain": [
              "              Year  Selling_Price      KM_Driven\n",
              "count  4340.000000   4.340000e+03    4340.000000\n",
              "mean   2013.090783   5.041273e+05   66215.777419\n",
              "std       4.215344   5.785487e+05   46644.102194\n",
              "min    1992.000000   2.000000e+04       1.000000\n",
              "25%    2011.000000   2.087498e+05   35000.000000\n",
              "50%    2014.000000   3.500000e+05   60000.000000\n",
              "75%    2016.000000   6.000000e+05   90000.000000\n",
              "max    2020.000000   8.900000e+06  806599.000000"
            ],
            "text/html": [
              "\n",
              "  <div id=\"df-7127bfc6-5dba-424c-9b7a-0b5d33fcf549\">\n",
              "    <div class=\"colab-df-container\">\n",
              "      <div>\n",
              "<style scoped>\n",
              "    .dataframe tbody tr th:only-of-type {\n",
              "        vertical-align: middle;\n",
              "    }\n",
              "\n",
              "    .dataframe tbody tr th {\n",
              "        vertical-align: top;\n",
              "    }\n",
              "\n",
              "    .dataframe thead th {\n",
              "        text-align: right;\n",
              "    }\n",
              "</style>\n",
              "<table border=\"1\" class=\"dataframe\">\n",
              "  <thead>\n",
              "    <tr style=\"text-align: right;\">\n",
              "      <th></th>\n",
              "      <th>Year</th>\n",
              "      <th>Selling_Price</th>\n",
              "      <th>KM_Driven</th>\n",
              "    </tr>\n",
              "  </thead>\n",
              "  <tbody>\n",
              "    <tr>\n",
              "      <th>count</th>\n",
              "      <td>4340.000000</td>\n",
              "      <td>4.340000e+03</td>\n",
              "      <td>4340.000000</td>\n",
              "    </tr>\n",
              "    <tr>\n",
              "      <th>mean</th>\n",
              "      <td>2013.090783</td>\n",
              "      <td>5.041273e+05</td>\n",
              "      <td>66215.777419</td>\n",
              "    </tr>\n",
              "    <tr>\n",
              "      <th>std</th>\n",
              "      <td>4.215344</td>\n",
              "      <td>5.785487e+05</td>\n",
              "      <td>46644.102194</td>\n",
              "    </tr>\n",
              "    <tr>\n",
              "      <th>min</th>\n",
              "      <td>1992.000000</td>\n",
              "      <td>2.000000e+04</td>\n",
              "      <td>1.000000</td>\n",
              "    </tr>\n",
              "    <tr>\n",
              "      <th>25%</th>\n",
              "      <td>2011.000000</td>\n",
              "      <td>2.087498e+05</td>\n",
              "      <td>35000.000000</td>\n",
              "    </tr>\n",
              "    <tr>\n",
              "      <th>50%</th>\n",
              "      <td>2014.000000</td>\n",
              "      <td>3.500000e+05</td>\n",
              "      <td>60000.000000</td>\n",
              "    </tr>\n",
              "    <tr>\n",
              "      <th>75%</th>\n",
              "      <td>2016.000000</td>\n",
              "      <td>6.000000e+05</td>\n",
              "      <td>90000.000000</td>\n",
              "    </tr>\n",
              "    <tr>\n",
              "      <th>max</th>\n",
              "      <td>2020.000000</td>\n",
              "      <td>8.900000e+06</td>\n",
              "      <td>806599.000000</td>\n",
              "    </tr>\n",
              "  </tbody>\n",
              "</table>\n",
              "</div>\n",
              "      <button class=\"colab-df-convert\" onclick=\"convertToInteractive('df-7127bfc6-5dba-424c-9b7a-0b5d33fcf549')\"\n",
              "              title=\"Convert this dataframe to an interactive table.\"\n",
              "              style=\"display:none;\">\n",
              "        \n",
              "  <svg xmlns=\"http://www.w3.org/2000/svg\" height=\"24px\"viewBox=\"0 0 24 24\"\n",
              "       width=\"24px\">\n",
              "    <path d=\"M0 0h24v24H0V0z\" fill=\"none\"/>\n",
              "    <path d=\"M18.56 5.44l.94 2.06.94-2.06 2.06-.94-2.06-.94-.94-2.06-.94 2.06-2.06.94zm-11 1L8.5 8.5l.94-2.06 2.06-.94-2.06-.94L8.5 2.5l-.94 2.06-2.06.94zm10 10l.94 2.06.94-2.06 2.06-.94-2.06-.94-.94-2.06-.94 2.06-2.06.94z\"/><path d=\"M17.41 7.96l-1.37-1.37c-.4-.4-.92-.59-1.43-.59-.52 0-1.04.2-1.43.59L10.3 9.45l-7.72 7.72c-.78.78-.78 2.05 0 2.83L4 21.41c.39.39.9.59 1.41.59.51 0 1.02-.2 1.41-.59l7.78-7.78 2.81-2.81c.8-.78.8-2.07 0-2.86zM5.41 20L4 18.59l7.72-7.72 1.47 1.35L5.41 20z\"/>\n",
              "  </svg>\n",
              "      </button>\n",
              "      \n",
              "  <style>\n",
              "    .colab-df-container {\n",
              "      display:flex;\n",
              "      flex-wrap:wrap;\n",
              "      gap: 12px;\n",
              "    }\n",
              "\n",
              "    .colab-df-convert {\n",
              "      background-color: #E8F0FE;\n",
              "      border: none;\n",
              "      border-radius: 50%;\n",
              "      cursor: pointer;\n",
              "      display: none;\n",
              "      fill: #1967D2;\n",
              "      height: 32px;\n",
              "      padding: 0 0 0 0;\n",
              "      width: 32px;\n",
              "    }\n",
              "\n",
              "    .colab-df-convert:hover {\n",
              "      background-color: #E2EBFA;\n",
              "      box-shadow: 0px 1px 2px rgba(60, 64, 67, 0.3), 0px 1px 3px 1px rgba(60, 64, 67, 0.15);\n",
              "      fill: #174EA6;\n",
              "    }\n",
              "\n",
              "    [theme=dark] .colab-df-convert {\n",
              "      background-color: #3B4455;\n",
              "      fill: #D2E3FC;\n",
              "    }\n",
              "\n",
              "    [theme=dark] .colab-df-convert:hover {\n",
              "      background-color: #434B5C;\n",
              "      box-shadow: 0px 1px 3px 1px rgba(0, 0, 0, 0.15);\n",
              "      filter: drop-shadow(0px 1px 2px rgba(0, 0, 0, 0.3));\n",
              "      fill: #FFFFFF;\n",
              "    }\n",
              "  </style>\n",
              "\n",
              "      <script>\n",
              "        const buttonEl =\n",
              "          document.querySelector('#df-7127bfc6-5dba-424c-9b7a-0b5d33fcf549 button.colab-df-convert');\n",
              "        buttonEl.style.display =\n",
              "          google.colab.kernel.accessAllowed ? 'block' : 'none';\n",
              "\n",
              "        async function convertToInteractive(key) {\n",
              "          const element = document.querySelector('#df-7127bfc6-5dba-424c-9b7a-0b5d33fcf549');\n",
              "          const dataTable =\n",
              "            await google.colab.kernel.invokeFunction('convertToInteractive',\n",
              "                                                     [key], {});\n",
              "          if (!dataTable) return;\n",
              "\n",
              "          const docLinkHtml = 'Like what you see? Visit the ' +\n",
              "            '<a target=\"_blank\" href=https://colab.research.google.com/notebooks/data_table.ipynb>data table notebook</a>'\n",
              "            + ' to learn more about interactive tables.';\n",
              "          element.innerHTML = '';\n",
              "          dataTable['output_type'] = 'display_data';\n",
              "          await google.colab.output.renderOutput(dataTable, element);\n",
              "          const docLink = document.createElement('div');\n",
              "          docLink.innerHTML = docLinkHtml;\n",
              "          element.appendChild(docLink);\n",
              "        }\n",
              "      </script>\n",
              "    </div>\n",
              "  </div>\n",
              "  "
            ]
          },
          "metadata": {},
          "execution_count": 6
        }
      ]
    },
    {
      "cell_type": "code",
      "source": [
        "## check nulls of data \n",
        "df_cars.isnull().sum()"
      ],
      "metadata": {
        "execution": {
          "iopub.status.busy": "2022-09-12T13:24:48.724384Z",
          "iopub.execute_input": "2022-09-12T13:24:48.724881Z",
          "iopub.status.idle": "2022-09-12T13:24:48.737620Z",
          "shell.execute_reply.started": "2022-09-12T13:24:48.724834Z",
          "shell.execute_reply": "2022-09-12T13:24:48.736220Z"
        },
        "trusted": true,
        "colab": {
          "base_uri": "https://localhost:8080/"
        },
        "id": "mJeOohuO4ePb",
        "outputId": "2221afa4-de53-45f0-8eca-1cb883a0dc99"
      },
      "execution_count": null,
      "outputs": [
        {
          "output_type": "execute_result",
          "data": {
            "text/plain": [
              "Brand            0\n",
              "Model            0\n",
              "Year             0\n",
              "Selling_Price    0\n",
              "KM_Driven        0\n",
              "Fuel             0\n",
              "Seller_Type      0\n",
              "Transmission     0\n",
              "Owner            0\n",
              "dtype: int64"
            ]
          },
          "metadata": {},
          "execution_count": 7
        }
      ]
    },
    {
      "cell_type": "markdown",
      "source": [
        "- Their is no null values"
      ],
      "metadata": {
        "id": "fHLwf2Gc4ePd"
      }
    },
    {
      "cell_type": "code",
      "source": [
        "# Check the Duplicates in dataset\n",
        "df_cars.duplicated().sum()"
      ],
      "metadata": {
        "execution": {
          "iopub.status.busy": "2022-09-12T13:24:48.742635Z",
          "iopub.execute_input": "2022-09-12T13:24:48.743415Z",
          "iopub.status.idle": "2022-09-12T13:24:48.758820Z",
          "shell.execute_reply.started": "2022-09-12T13:24:48.743362Z",
          "shell.execute_reply": "2022-09-12T13:24:48.757173Z"
        },
        "trusted": true,
        "colab": {
          "base_uri": "https://localhost:8080/"
        },
        "id": "NelqNtGs4ePf",
        "outputId": "85fef24c-b6dc-4713-afb0-a34957e1898e"
      },
      "execution_count": null,
      "outputs": [
        {
          "output_type": "execute_result",
          "data": {
            "text/plain": [
              "763"
            ]
          },
          "metadata": {},
          "execution_count": 8
        }
      ]
    },
    {
      "cell_type": "markdown",
      "source": [
        "- Their is No duplicates in the data "
      ],
      "metadata": {
        "id": "dysa4fhs4ePg"
      }
    },
    {
      "cell_type": "code",
      "source": [
        "df_cars.columns"
      ],
      "metadata": {
        "execution": {
          "iopub.status.busy": "2022-09-12T13:24:48.761192Z",
          "iopub.execute_input": "2022-09-12T13:24:48.762002Z",
          "iopub.status.idle": "2022-09-12T13:24:48.810114Z",
          "shell.execute_reply.started": "2022-09-12T13:24:48.761953Z",
          "shell.execute_reply": "2022-09-12T13:24:48.808301Z"
        },
        "trusted": true,
        "colab": {
          "base_uri": "https://localhost:8080/"
        },
        "id": "GSqKyjyJ4ePi",
        "outputId": "09d6b53d-0ac7-4f34-c7bf-c2b64b6c3e29"
      },
      "execution_count": null,
      "outputs": [
        {
          "output_type": "execute_result",
          "data": {
            "text/plain": [
              "Index(['Brand', 'Model', 'Year', 'Selling_Price', 'KM_Driven', 'Fuel',\n",
              "       'Seller_Type', 'Transmission', 'Owner'],\n",
              "      dtype='object')"
            ]
          },
          "metadata": {},
          "execution_count": 9
        }
      ]
    },
    {
      "cell_type": "code",
      "source": [
        "# Drop the CarID column\n",
        "df_cars.drop('Brand',axis=1,inplace=True)"
      ],
      "metadata": {
        "execution": {
          "iopub.status.busy": "2022-09-12T13:24:48.812374Z",
          "iopub.execute_input": "2022-09-12T13:24:48.813423Z",
          "iopub.status.idle": "2022-09-12T13:24:48.824399Z",
          "shell.execute_reply.started": "2022-09-12T13:24:48.813362Z",
          "shell.execute_reply": "2022-09-12T13:24:48.822547Z"
        },
        "trusted": true,
        "id": "sIo-9jCc4ePj"
      },
      "execution_count": null,
      "outputs": []
    },
    {
      "cell_type": "code",
      "source": [
        "# Histogram to all the nummeric columns\n",
        "df_cars.hist(bins=40,figsize=(20,15),color='b');"
      ],
      "metadata": {
        "execution": {
          "iopub.status.busy": "2022-09-12T13:24:48.826521Z",
          "iopub.execute_input": "2022-09-12T13:24:48.827589Z",
          "iopub.status.idle": "2022-09-12T13:24:52.700683Z",
          "shell.execute_reply.started": "2022-09-12T13:24:48.827537Z",
          "shell.execute_reply": "2022-09-12T13:24:52.688862Z"
        },
        "trusted": true,
        "colab": {
          "base_uri": "https://localhost:8080/",
          "height": 318
        },
        "id": "7UYHfZSI4ePl",
        "outputId": "6d1eb4b5-aef9-4982-ab24-5b3f24c7cf58"
      },
      "execution_count": null,
      "outputs": [
        {
          "output_type": "display_data",
          "data": {
            "text/plain": [
              "<Figure size 1440x1080 with 4 Axes>"
            ],
            "image/png": "[encoded data removed]"
          },
          "metadata": {
            "needs_background": "light"
          }
        }
      ]
    },
    {
      "cell_type": "code",
      "source": [
        "# Get the main names of cars\n",
        "df_cars['Model'] = df_cars['Model'].str.split(' ',expand=True)[0]"
      ],
      "metadata": {
        "execution": {
          "iopub.status.busy": "2022-09-12T13:24:52.702506Z",
          "iopub.execute_input": "2022-09-12T13:24:52.704222Z",
          "iopub.status.idle": "2022-09-12T13:24:52.714485Z",
          "shell.execute_reply.started": "2022-09-12T13:24:52.703862Z",
          "shell.execute_reply": "2022-09-12T13:24:52.713096Z"
        },
        "trusted": true,
        "id": "d2bpf4on4ePm"
      },
      "execution_count": null,
      "outputs": []
    },
    {
      "cell_type": "code",
      "source": [
        "# Unique names of cars\n",
        "df_cars.Model.unique()"
      ],
      "metadata": {
        "execution": {
          "iopub.status.busy": "2022-09-12T13:24:52.716743Z",
          "iopub.execute_input": "2022-09-12T13:24:52.717874Z",
          "iopub.status.idle": "2022-09-12T13:24:52.728432Z",
          "shell.execute_reply.started": "2022-09-12T13:24:52.717813Z",
          "shell.execute_reply": "2022-09-12T13:24:52.727152Z"
        },
        "trusted": true,
        "colab": {
          "base_uri": "https://localhost:8080/"
        },
        "id": "Iece5_re4ePn",
        "outputId": "00d8a9b1-8503-4852-efb1-59f29c68e4bc"
      },
      "execution_count": null,
      "outputs": [
        {
          "output_type": "execute_result",
          "data": {
            "text/plain": [
              "array(['Maruti', 'Hyundai', 'Datsun', 'Honda', 'Tata', 'Chevrolet',\n",
              "       'Toyota', 'Jaguar', 'Mercedes-Benz', 'Audi', 'Skoda', 'Jeep',\n",
              "       'BMW', 'Mahindra', 'Ford', 'Nissan', 'Renault', 'Fiat',\n",
              "       'Volkswagen', 'Volvo', 'Mitsubishi', 'Land', 'Daewoo', 'MG',\n",
              "       'Force', 'Isuzu', 'OpelCorsa', 'Ambassador', 'Kia'], dtype=object)"
            ]
          },
          "metadata": {},
          "execution_count": 17
        }
      ]
    },
    {
      "cell_type": "code",
      "source": [
        "# Select the categorical columns\n",
        "categorical_cols=df_cars.select_dtypes(include=['object']).columns"
      ],
      "metadata": {
        "execution": {
          "iopub.status.busy": "2022-09-12T13:24:52.763600Z",
          "iopub.execute_input": "2022-09-12T13:24:52.764198Z",
          "iopub.status.idle": "2022-09-12T13:24:52.812245Z",
          "shell.execute_reply.started": "2022-09-12T13:24:52.764158Z",
          "shell.execute_reply": "2022-09-12T13:24:52.810905Z"
        },
        "trusted": true,
        "id": "loUVIT3a4ePs"
      },
      "execution_count": null,
      "outputs": []
    },
    {
      "cell_type": "code",
      "source": [
        "# print all the unique values of all categorical columns\n",
        "for i in categorical_cols:\n",
        "    print(i,'unique values')\n",
        "    print('-----------------------------------')\n",
        "    print(df_cars[i].unique())\n",
        "    print('-----------------------------------------------------------------------------')"
      ],
      "metadata": {
        "execution": {
          "iopub.status.busy": "2022-09-12T13:24:52.814264Z",
          "iopub.execute_input": "2022-09-12T13:24:52.815310Z",
          "iopub.status.idle": "2022-09-12T13:24:52.835332Z",
          "shell.execute_reply.started": "2022-09-12T13:24:52.815266Z",
          "shell.execute_reply": "2022-09-12T13:24:52.834056Z"
        },
        "trusted": true,
        "colab": {
          "base_uri": "https://localhost:8080/"
        },
        "id": "8pG4R5aX4ePt",
        "outputId": "75e7fd01-958a-4882-b1f8-b360d235d420"
      },
      "execution_count": null,
      "outputs": [
        {
          "output_type": "stream",
          "name": "stdout",
          "text": [
            "Model unique values\n",
            "-----------------------------------\n",
            "['Maruti' 'Hyundai' 'Datsun' 'Honda' 'Tata' 'Chevrolet' 'Toyota' 'Jaguar'\n",
            " 'Mercedes-Benz' 'Audi' 'Skoda' 'Jeep' 'BMW' 'Mahindra' 'Ford' 'Nissan'\n",
            " 'Renault' 'Fiat' 'Volkswagen' 'Volvo' 'Mitsubishi' 'Land' 'Daewoo' 'MG'\n",
            " 'Force' 'Isuzu' 'OpelCorsa' 'Ambassador' 'Kia']\n",
            "-----------------------------------------------------------------------------\n",
            "Fuel unique values\n",
            "-----------------------------------\n",
            "['Petrol' 'Diesel' 'CNG' 'LPG' 'Electric']\n",
            "-----------------------------------------------------------------------------\n",
            "Seller_Type unique values\n",
            "-----------------------------------\n",
            "['Individual' 'Dealer' 'Trustmark Dealer']\n",
            "-----------------------------------------------------------------------------\n",
            "Transmission unique values\n",
            "-----------------------------------\n",
            "['Manual' 'Automatic']\n",
            "-----------------------------------------------------------------------------\n",
            "Owner unique values\n",
            "-----------------------------------\n",
            "['First Owner' 'Second Owner' 'Fourth & Above Owner' 'Third Owner'\n",
            " 'Test Drive Car']\n",
            "-----------------------------------------------------------------------------\n"
          ]
        }
      ]
    },
    {
      "cell_type": "markdown",
      "source": [
        "- toyota is the maximum one "
      ],
      "metadata": {
        "id": "AdNQbsyj4ePu"
      }
    },
    {
      "cell_type": "code",
      "source": [
        "le = LabelEncoder()\n",
        "df_cars['Model'] = le.fit_transform(df_cars['Model'])\n",
        "df_cars['Fuel'] = le.fit_transform(df_cars['Fuel'])\n",
        "df_cars['KM_Driven'] = le.fit_transform(df_cars['KM_Driven'])\n",
        "df_cars['Seller_Type'] = le.fit_transform(df_cars['Seller_Type'])\n",
        "df_cars['Transmission'] = le.fit_transform(df_cars['Transmission'])\n",
        "df_cars['Year'] = le.fit_transform(df_cars['Year'])\n",
        "df_cars['Owner'] = le.fit_transform(df_cars['Owner'])\n",
        "df_cars['Selling_Price'] = le.fit_transform(df_cars['Selling_Price'])"
      ],
      "metadata": {
        "execution": {
          "iopub.status.busy": "2022-09-12T13:24:52.838478Z",
          "iopub.execute_input": "2022-09-12T13:24:52.839630Z",
          "iopub.status.idle": "2022-09-12T13:24:52.857393Z",
          "shell.execute_reply.started": "2022-09-12T13:24:52.839585Z",
          "shell.execute_reply": "2022-09-12T13:24:52.856029Z"
        },
        "trusted": true,
        "id": "hplJJBMx4ePv"
      },
      "execution_count": null,
      "outputs": []
    },
    {
      "cell_type": "code",
      "source": [
        "plt.figure(figsize=(30,20))\n",
        "c = df_cars.corr()\n",
        "sns.heatmap(c,annot=True)"
      ],
      "metadata": {
        "execution": {
          "iopub.status.busy": "2022-09-12T13:24:52.859457Z",
          "iopub.execute_input": "2022-09-12T13:24:52.860484Z",
          "iopub.status.idle": "2022-09-12T13:24:56.800847Z",
          "shell.execute_reply.started": "2022-09-12T13:24:52.860308Z",
          "shell.execute_reply": "2022-09-12T13:24:56.793283Z"
        },
        "trusted": true,
        "colab": {
          "base_uri": "https://localhost:8080/",
          "height": 346
        },
        "id": "PRomobOL4ePx",
        "outputId": "1f279c20-f38b-469a-8d3b-f533b3022b20"
      },
      "execution_count": null,
      "outputs": [
        {
          "output_type": "execute_result",
          "data": {
            "text/plain": [
              "<matplotlib.axes._subplots.AxesSubplot at 0x7feab84f6550>"
            ]
          },
          "metadata": {},
          "execution_count": 29
        },
        {
          "output_type": "display_data",
          "data": {
            "text/plain": [
              "<Figure size 2160x1440 with 2 Axes>"
            ],
            "image/png": "[encoded data removed]"
          },
          "metadata": {
            "needs_background": "light"
          }
        }
      ]
    },
    {
      "cell_type": "markdown",
      "source": [
        "# Comment \n",
        ">  Price has high correlation with{wheelbase , carlength , carwidth , curbweight , enginesize , boreratio , horsepower , citympg , highwaympg , drivewheel , fuelsystem }"
      ],
      "metadata": {
        "id": "r74gvKBe4ePy"
      }
    },
    {
      "cell_type": "markdown",
      "source": [
        "# Train Test Split "
      ],
      "metadata": {
        "id": "exPNPT8r4eP0"
      }
    },
    {
      "cell_type": "code",
      "source": [
        "from sklearn.model_selection import train_test_split"
      ],
      "metadata": {
        "execution": {
          "iopub.status.busy": "2022-09-12T13:24:56.803081Z",
          "iopub.execute_input": "2022-09-12T13:24:56.803914Z",
          "iopub.status.idle": "2022-09-12T13:24:56.809828Z",
          "shell.execute_reply.started": "2022-09-12T13:24:56.803867Z",
          "shell.execute_reply": "2022-09-12T13:24:56.808621Z"
        },
        "trusted": true,
        "id": "PHab1NLB4eP1"
      },
      "execution_count": null,
      "outputs": []
    },
    {
      "cell_type": "code",
      "source": [
        "# split the data to x and y\n",
        "# y is 1 column contain the values is the target\n",
        "# x contain the values of the rest of columns\n",
        "cars = df_cars[[ 'Model', 'Year', 'Selling_Price', 'KM_Driven', 'Fuel',\n",
        "       'Seller_Type', 'Transmission', 'Owner']]\n",
        "x = cars.drop('Selling_Price',axis=1).values\n",
        "y = cars['Selling_Price'].values"
      ],
      "metadata": {
        "execution": {
          "iopub.status.busy": "2022-09-12T13:24:56.811755Z",
          "iopub.execute_input": "2022-09-12T13:24:56.812545Z",
          "iopub.status.idle": "2022-09-12T13:24:56.827653Z",
          "shell.execute_reply.started": "2022-09-12T13:24:56.812498Z",
          "shell.execute_reply": "2022-09-12T13:24:56.826640Z"
        },
        "trusted": true,
        "id": "PZGEeanF4eP2"
      },
      "execution_count": null,
      "outputs": []
    },
    {
      "cell_type": "code",
      "source": [
        "x_train,x_test,y_train,y_test = train_test_split(x,y,test_size=0.25 , random_state=42)"
      ],
      "metadata": {
        "execution": {
          "iopub.status.busy": "2022-09-12T13:24:56.829727Z",
          "iopub.execute_input": "2022-09-12T13:24:56.830691Z",
          "iopub.status.idle": "2022-09-12T13:24:56.838451Z",
          "shell.execute_reply.started": "2022-09-12T13:24:56.830506Z",
          "shell.execute_reply": "2022-09-12T13:24:56.837109Z"
        },
        "trusted": true,
        "id": "JNqKZ2Sa4eP4"
      },
      "execution_count": null,
      "outputs": []
    },
    {
      "cell_type": "markdown",
      "source": [
        "# Data scaling using robust regression"
      ],
      "metadata": {
        "id": "VapL7b-w4eP5"
      }
    },
    {
      "cell_type": "code",
      "source": [
        "from sklearn.preprocessing import RobustScaler\n",
        "ro_scaler = RobustScaler()\n",
        "x_train = ro_scaler.fit_transform(x_train)\n",
        "x_test = ro_scaler.fit_transform(x_test)"
      ],
      "metadata": {
        "execution": {
          "iopub.status.busy": "2022-09-12T13:24:56.840604Z",
          "iopub.execute_input": "2022-09-12T13:24:56.841592Z",
          "iopub.status.idle": "2022-09-12T13:24:56.856658Z",
          "shell.execute_reply.started": "2022-09-12T13:24:56.841539Z",
          "shell.execute_reply": "2022-09-12T13:24:56.855310Z"
        },
        "trusted": true,
        "id": "el44NySt4eP6"
      },
      "execution_count": 111,
      "outputs": []
    },
    {
      "cell_type": "markdown",
      "source": [
        "# Linear regression model"
      ],
      "metadata": {
        "id": "ZYWNHFMT4eP7"
      }
    },
    {
      "cell_type": "code",
      "source": [
        "from sklearn import linear_model\n",
        "reg = linear_model.LinearRegression()\n",
        "reg.fit(x_train,y_train)"
      ],
      "metadata": {
        "execution": {
          "iopub.status.busy": "2022-09-12T13:24:56.858805Z",
          "iopub.execute_input": "2022-09-12T13:24:56.859764Z",
          "iopub.status.idle": "2022-09-12T13:24:56.996145Z",
          "shell.execute_reply.started": "2022-09-12T13:24:56.859713Z",
          "shell.execute_reply": "2022-09-12T13:24:56.994365Z"
        },
        "trusted": true,
        "colab": {
          "base_uri": "https://localhost:8080/"
        },
        "id": "pxXUznvD4eP8",
        "outputId": "7106af64-768c-4e51-aa42-8b24918b0068"
      },
      "execution_count": 112,
      "outputs": [
        {
          "output_type": "execute_result",
          "data": {
            "text/plain": [
              "LinearRegression()"
            ]
          },
          "metadata": {},
          "execution_count": 112
        }
      ]
    },
    {
      "cell_type": "code",
      "source": [
        "reg.score(x_train,y_train)"
      ],
      "metadata": {
        "execution": {
          "iopub.status.busy": "2022-09-12T13:24:56.998157Z",
          "iopub.execute_input": "2022-09-12T13:24:56.998976Z",
          "iopub.status.idle": "2022-09-12T13:24:57.008895Z",
          "shell.execute_reply.started": "2022-09-12T13:24:56.998922Z",
          "shell.execute_reply": "2022-09-12T13:24:57.007454Z"
        },
        "trusted": true,
        "colab": {
          "base_uri": "https://localhost:8080/"
        },
        "id": "BMXbNsY94eP9",
        "outputId": "39f66936-1eca-483c-8317-283835d1ffa3"
      },
      "execution_count": 113,
      "outputs": [
        {
          "output_type": "execute_result",
          "data": {
            "text/plain": [
              "0.622122430179653"
            ]
          },
          "metadata": {},
          "execution_count": 113
        }
      ]
    },
    {
      "cell_type": "code",
      "source": [
        "reg.score(x_test,y_test)"
      ],
      "metadata": {
        "execution": {
          "iopub.status.busy": "2022-09-12T13:24:57.010916Z",
          "iopub.execute_input": "2022-09-12T13:24:57.011745Z",
          "iopub.status.idle": "2022-09-12T13:24:57.022175Z",
          "shell.execute_reply.started": "2022-09-12T13:24:57.011688Z",
          "shell.execute_reply": "2022-09-12T13:24:57.020979Z"
        },
        "trusted": true,
        "colab": {
          "base_uri": "https://localhost:8080/"
        },
        "id": "GB1z8uND4eP-",
        "outputId": "28e18ae7-bc10-446d-bfd9-cde736cb055c"
      },
      "execution_count": 114,
      "outputs": [
        {
          "output_type": "execute_result",
          "data": {
            "text/plain": [
              "0.6126137478850038"
            ]
          },
          "metadata": {},
          "execution_count": 114
        }
      ]
    },
    {
      "cell_type": "code",
      "source": [
        "reg.intercept_"
      ],
      "metadata": {
        "execution": {
          "iopub.status.busy": "2022-09-12T13:24:57.023944Z",
          "iopub.execute_input": "2022-09-12T13:24:57.024885Z",
          "iopub.status.idle": "2022-09-12T13:24:57.033628Z",
          "shell.execute_reply.started": "2022-09-12T13:24:57.024827Z",
          "shell.execute_reply": "2022-09-12T13:24:57.032348Z"
        },
        "trusted": true,
        "colab": {
          "base_uri": "https://localhost:8080/"
        },
        "id": "KaHjsJau4eP_",
        "outputId": "26728302-ed8d-4d3d-9b9d-e8b94eb8be5c"
      },
      "execution_count": 115,
      "outputs": [
        {
          "output_type": "execute_result",
          "data": {
            "text/plain": [
              "206.5900510158655"
            ]
          },
          "metadata": {},
          "execution_count": 115
        }
      ]
    },
    {
      "cell_type": "code",
      "source": [
        "reg.coef_"
      ],
      "metadata": {
        "execution": {
          "iopub.status.busy": "2022-09-12T13:24:57.035728Z",
          "iopub.execute_input": "2022-09-12T13:24:57.036850Z",
          "iopub.status.idle": "2022-09-12T13:24:57.048410Z",
          "shell.execute_reply.started": "2022-09-12T13:24:57.036786Z",
          "shell.execute_reply": "2022-09-12T13:24:57.047275Z"
        },
        "trusted": true,
        "colab": {
          "base_uri": "https://localhost:8080/"
        },
        "id": "YZHIMMdJ4eQA",
        "outputId": "afa3e8b8-d914-4c1d-9511-06823608d789"
      },
      "execution_count": 116,
      "outputs": [
        {
          "output_type": "execute_result",
          "data": {
            "text/plain": [
              "array([  -2.3437467 ,   59.1608624 ,  -19.21131772,  -65.96032362,\n",
              "         -2.97812531, -107.97722432,   -6.65129755])"
            ]
          },
          "metadata": {},
          "execution_count": 116
        }
      ]
    },
    {
      "cell_type": "code",
      "source": [
        "pd.DataFrame(reg.coef_,cars.columns[:-1],columns=['coeficients'])"
      ],
      "metadata": {
        "execution": {
          "iopub.status.busy": "2022-09-12T13:24:57.050297Z",
          "iopub.execute_input": "2022-09-12T13:24:57.051368Z",
          "iopub.status.idle": "2022-09-12T13:24:57.108604Z",
          "shell.execute_reply.started": "2022-09-12T13:24:57.051291Z",
          "shell.execute_reply": "2022-09-12T13:24:57.107167Z"
        },
        "trusted": true,
        "colab": {
          "base_uri": "https://localhost:8080/",
          "height": 269
        },
        "id": "qfwMgci04eQB",
        "outputId": "76638cc4-e458-4828-b55d-b1342d95c569"
      },
      "execution_count": 117,
      "outputs": [
        {
          "output_type": "execute_result",
          "data": {
            "text/plain": [
              "               coeficients\n",
              "Model            -2.343747\n",
              "Year             59.160862\n",
              "Selling_Price   -19.211318\n",
              "KM_Driven       -65.960324\n",
              "Fuel             -2.978125\n",
              "Seller_Type    -107.977224\n",
              "Transmission     -6.651298"
            ],
            "text/html": [
              "\n",
              "  <div id=\"df-7786235b-080b-46f6-b0ea-560aa54df7c6\">\n",
              "    <div class=\"colab-df-container\">\n",
              "      <div>\n",
              "<style scoped>\n",
              "    .dataframe tbody tr th:only-of-type {\n",
              "        vertical-align: middle;\n",
              "    }\n",
              "\n",
              "    .dataframe tbody tr th {\n",
              "        vertical-align: top;\n",
              "    }\n",
              "\n",
              "    .dataframe thead th {\n",
              "        text-align: right;\n",
              "    }\n",
              "</style>\n",
              "<table border=\"1\" class=\"dataframe\">\n",
              "  <thead>\n",
              "    <tr style=\"text-align: right;\">\n",
              "      <th></th>\n",
              "      <th>coeficients</th>\n",
              "    </tr>\n",
              "  </thead>\n",
              "  <tbody>\n",
              "    <tr>\n",
              "      <th>Model</th>\n",
              "      <td>-2.343747</td>\n",
              "    </tr>\n",
              "    <tr>\n",
              "      <th>Year</th>\n",
              "      <td>59.160862</td>\n",
              "    </tr>\n",
              "    <tr>\n",
              "      <th>Selling_Price</th>\n",
              "      <td>-19.211318</td>\n",
              "    </tr>\n",
              "    <tr>\n",
              "      <th>KM_Driven</th>\n",
              "      <td>-65.960324</td>\n",
              "    </tr>\n",
              "    <tr>\n",
              "      <th>Fuel</th>\n",
              "      <td>-2.978125</td>\n",
              "    </tr>\n",
              "    <tr>\n",
              "      <th>Seller_Type</th>\n",
              "      <td>-107.977224</td>\n",
              "    </tr>\n",
              "    <tr>\n",
              "      <th>Transmission</th>\n",
              "      <td>-6.651298</td>\n",
              "    </tr>\n",
              "  </tbody>\n",
              "</table>\n",
              "</div>\n",
              "      <button class=\"colab-df-convert\" onclick=\"convertToInteractive('df-7786235b-080b-46f6-b0ea-560aa54df7c6')\"\n",
              "              title=\"Convert this dataframe to an interactive table.\"\n",
              "              style=\"display:none;\">\n",
              "        \n",
              "  <svg xmlns=\"http://www.w3.org/2000/svg\" height=\"24px\"viewBox=\"0 0 24 24\"\n",
              "       width=\"24px\">\n",
              "    <path d=\"M0 0h24v24H0V0z\" fill=\"none\"/>\n",
              "    <path d=\"M18.56 5.44l.94 2.06.94-2.06 2.06-.94-2.06-.94-.94-2.06-.94 2.06-2.06.94zm-11 1L8.5 8.5l.94-2.06 2.06-.94-2.06-.94L8.5 2.5l-.94 2.06-2.06.94zm10 10l.94 2.06.94-2.06 2.06-.94-2.06-.94-.94-2.06-.94 2.06-2.06.94z\"/><path d=\"M17.41 7.96l-1.37-1.37c-.4-.4-.92-.59-1.43-.59-.52 0-1.04.2-1.43.59L10.3 9.45l-7.72 7.72c-.78.78-.78 2.05 0 2.83L4 21.41c.39.39.9.59 1.41.59.51 0 1.02-.2 1.41-.59l7.78-7.78 2.81-2.81c.8-.78.8-2.07 0-2.86zM5.41 20L4 18.59l7.72-7.72 1.47 1.35L5.41 20z\"/>\n",
              "  </svg>\n",
              "      </button>\n",
              "      \n",
              "  <style>\n",
              "    .colab-df-container {\n",
              "      display:flex;\n",
              "      flex-wrap:wrap;\n",
              "      gap: 12px;\n",
              "    }\n",
              "\n",
              "    .colab-df-convert {\n",
              "      background-color: #E8F0FE;\n",
              "      border: none;\n",
              "      border-radius: 50%;\n",
              "      cursor: pointer;\n",
              "      display: none;\n",
              "      fill: #1967D2;\n",
              "      height: 32px;\n",
              "      padding: 0 0 0 0;\n",
              "      width: 32px;\n",
              "    }\n",
              "\n",
              "    .colab-df-convert:hover {\n",
              "      background-color: #E2EBFA;\n",
              "      box-shadow: 0px 1px 2px rgba(60, 64, 67, 0.3), 0px 1px 3px 1px rgba(60, 64, 67, 0.15);\n",
              "      fill: #174EA6;\n",
              "    }\n",
              "\n",
              "    [theme=dark] .colab-df-convert {\n",
              "      background-color: #3B4455;\n",
              "      fill: #D2E3FC;\n",
              "    }\n",
              "\n",
              "    [theme=dark] .colab-df-convert:hover {\n",
              "      background-color: #434B5C;\n",
              "      box-shadow: 0px 1px 3px 1px rgba(0, 0, 0, 0.15);\n",
              "      filter: drop-shadow(0px 1px 2px rgba(0, 0, 0, 0.3));\n",
              "      fill: #FFFFFF;\n",
              "    }\n",
              "  </style>\n",
              "\n",
              "      <script>\n",
              "        const buttonEl =\n",
              "          document.querySelector('#df-7786235b-080b-46f6-b0ea-560aa54df7c6 button.colab-df-convert');\n",
              "        buttonEl.style.display =\n",
              "          google.colab.kernel.accessAllowed ? 'block' : 'none';\n",
              "\n",
              "        async function convertToInteractive(key) {\n",
              "          const element = document.querySelector('#df-7786235b-080b-46f6-b0ea-560aa54df7c6');\n",
              "          const dataTable =\n",
              "            await google.colab.kernel.invokeFunction('convertToInteractive',\n",
              "                                                     [key], {});\n",
              "          if (!dataTable) return;\n",
              "\n",
              "          const docLinkHtml = 'Like what you see? Visit the ' +\n",
              "            '<a target=\"_blank\" href=https://colab.research.google.com/notebooks/data_table.ipynb>data table notebook</a>'\n",
              "            + ' to learn more about interactive tables.';\n",
              "          element.innerHTML = '';\n",
              "          dataTable['output_type'] = 'display_data';\n",
              "          await google.colab.output.renderOutput(dataTable, element);\n",
              "          const docLink = document.createElement('div');\n",
              "          docLink.innerHTML = docLinkHtml;\n",
              "          element.appendChild(docLink);\n",
              "        }\n",
              "      </script>\n",
              "    </div>\n",
              "  </div>\n",
              "  "
            ]
          },
          "metadata": {},
          "execution_count": 117
        }
      ]
    },
    {
      "cell_type": "code",
      "source": [
        "y_pred_1 = reg.predict(x_test)"
      ],
      "metadata": {
        "execution": {
          "iopub.status.busy": "2022-09-12T13:24:57.110522Z",
          "iopub.execute_input": "2022-09-12T13:24:57.111446Z",
          "iopub.status.idle": "2022-09-12T13:24:57.119872Z",
          "shell.execute_reply.started": "2022-09-12T13:24:57.111395Z",
          "shell.execute_reply": "2022-09-12T13:24:57.118423Z"
        },
        "trusted": true,
        "id": "hfYpVWbt4eQC"
      },
      "execution_count": 118,
      "outputs": []
    },
    {
      "cell_type": "code",
      "source": [
        "df_1 = pd.DataFrame({'y_test':y_test,'Y_pred':y_pred_1})"
      ],
      "metadata": {
        "execution": {
          "iopub.status.busy": "2022-09-12T13:24:57.121885Z",
          "iopub.execute_input": "2022-09-12T13:24:57.122742Z",
          "iopub.status.idle": "2022-09-12T13:24:57.133114Z",
          "shell.execute_reply.started": "2022-09-12T13:24:57.122688Z",
          "shell.execute_reply": "2022-09-12T13:24:57.132051Z"
        },
        "trusted": true,
        "id": "nTaoGkPq4eQC"
      },
      "execution_count": 119,
      "outputs": []
    },
    {
      "cell_type": "code",
      "source": [
        "df_1.head(10)"
      ],
      "metadata": {
        "execution": {
          "iopub.status.busy": "2022-09-12T13:24:57.143395Z",
          "iopub.execute_input": "2022-09-12T13:24:57.144133Z",
          "iopub.status.idle": "2022-09-12T13:24:57.159795Z",
          "shell.execute_reply.started": "2022-09-12T13:24:57.144050Z",
          "shell.execute_reply": "2022-09-12T13:24:57.158181Z"
        },
        "trusted": true,
        "colab": {
          "base_uri": "https://localhost:8080/",
          "height": 363
        },
        "id": "cDrko-CS4eQD",
        "outputId": "c2740cce-e476-4546-cd7a-7e1963d069fb"
      },
      "execution_count": 120,
      "outputs": [
        {
          "output_type": "execute_result",
          "data": {
            "text/plain": [
              "   y_test      Y_pred\n",
              "0      75  168.089678\n",
              "1     114  211.338065\n",
              "2      52   94.560783\n",
              "3     193  197.021881\n",
              "4     275  337.789377\n",
              "5      70  139.811252\n",
              "6     216  183.291114\n",
              "7      39  147.549215\n",
              "8     129  237.784519\n",
              "9     118  144.105024"
            ],
            "text/html": [
              "\n",
              "  <div id=\"df-7ba77898-ec7f-47bd-b239-b84f94adc260\">\n",
              "    <div class=\"colab-df-container\">\n",
              "      <div>\n",
              "<style scoped>\n",
              "    .dataframe tbody tr th:only-of-type {\n",
              "        vertical-align: middle;\n",
              "    }\n",
              "\n",
              "    .dataframe tbody tr th {\n",
              "        vertical-align: top;\n",
              "    }\n",
              "\n",
              "    .dataframe thead th {\n",
              "        text-align: right;\n",
              "    }\n",
              "</style>\n",
              "<table border=\"1\" class=\"dataframe\">\n",
              "  <thead>\n",
              "    <tr style=\"text-align: right;\">\n",
              "      <th></th>\n",
              "      <th>y_test</th>\n",
              "      <th>Y_pred</th>\n",
              "    </tr>\n",
              "  </thead>\n",
              "  <tbody>\n",
              "    <tr>\n",
              "      <th>0</th>\n",
              "      <td>75</td>\n",
              "      <td>168.089678</td>\n",
              "    </tr>\n",
              "    <tr>\n",
              "      <th>1</th>\n",
              "      <td>114</td>\n",
              "      <td>211.338065</td>\n",
              "    </tr>\n",
              "    <tr>\n",
              "      <th>2</th>\n",
              "      <td>52</td>\n",
              "      <td>94.560783</td>\n",
              "    </tr>\n",
              "    <tr>\n",
              "      <th>3</th>\n",
              "      <td>193</td>\n",
              "      <td>197.021881</td>\n",
              "    </tr>\n",
              "    <tr>\n",
              "      <th>4</th>\n",
              "      <td>275</td>\n",
              "      <td>337.789377</td>\n",
              "    </tr>\n",
              "    <tr>\n",
              "      <th>5</th>\n",
              "      <td>70</td>\n",
              "      <td>139.811252</td>\n",
              "    </tr>\n",
              "    <tr>\n",
              "      <th>6</th>\n",
              "      <td>216</td>\n",
              "      <td>183.291114</td>\n",
              "    </tr>\n",
              "    <tr>\n",
              "      <th>7</th>\n",
              "      <td>39</td>\n",
              "      <td>147.549215</td>\n",
              "    </tr>\n",
              "    <tr>\n",
              "      <th>8</th>\n",
              "      <td>129</td>\n",
              "      <td>237.784519</td>\n",
              "    </tr>\n",
              "    <tr>\n",
              "      <th>9</th>\n",
              "      <td>118</td>\n",
              "      <td>144.105024</td>\n",
              "    </tr>\n",
              "  </tbody>\n",
              "</table>\n",
              "</div>\n",
              "      <button class=\"colab-df-convert\" onclick=\"convertToInteractive('df-7ba77898-ec7f-47bd-b239-b84f94adc260')\"\n",
              "              title=\"Convert this dataframe to an interactive table.\"\n",
              "              style=\"display:none;\">\n",
              "        \n",
              "  <svg xmlns=\"http://www.w3.org/2000/svg\" height=\"24px\"viewBox=\"0 0 24 24\"\n",
              "       width=\"24px\">\n",
              "    <path d=\"M0 0h24v24H0V0z\" fill=\"none\"/>\n",
              "    <path d=\"M18.56 5.44l.94 2.06.94-2.06 2.06-.94-2.06-.94-.94-2.06-.94 2.06-2.06.94zm-11 1L8.5 8.5l.94-2.06 2.06-.94-2.06-.94L8.5 2.5l-.94 2.06-2.06.94zm10 10l.94 2.06.94-2.06 2.06-.94-2.06-.94-.94-2.06-.94 2.06-2.06.94z\"/><path d=\"M17.41 7.96l-1.37-1.37c-.4-.4-.92-.59-1.43-.59-.52 0-1.04.2-1.43.59L10.3 9.45l-7.72 7.72c-.78.78-.78 2.05 0 2.83L4 21.41c.39.39.9.59 1.41.59.51 0 1.02-.2 1.41-.59l7.78-7.78 2.81-2.81c.8-.78.8-2.07 0-2.86zM5.41 20L4 18.59l7.72-7.72 1.47 1.35L5.41 20z\"/>\n",
              "  </svg>\n",
              "      </button>\n",
              "      \n",
              "  <style>\n",
              "    .colab-df-container {\n",
              "      display:flex;\n",
              "      flex-wrap:wrap;\n",
              "      gap: 12px;\n",
              "    }\n",
              "\n",
              "    .colab-df-convert {\n",
              "      background-color: #E8F0FE;\n",
              "      border: none;\n",
              "      border-radius: 50%;\n",
              "      cursor: pointer;\n",
              "      display: none;\n",
              "      fill: #1967D2;\n",
              "      height: 32px;\n",
              "      padding: 0 0 0 0;\n",
              "      width: 32px;\n",
              "    }\n",
              "\n",
              "    .colab-df-convert:hover {\n",
              "      background-color: #E2EBFA;\n",
              "      box-shadow: 0px 1px 2px rgba(60, 64, 67, 0.3), 0px 1px 3px 1px rgba(60, 64, 67, 0.15);\n",
              "      fill: #174EA6;\n",
              "    }\n",
              "\n",
              "    [theme=dark] .colab-df-convert {\n",
              "      background-color: #3B4455;\n",
              "      fill: #D2E3FC;\n",
              "    }\n",
              "\n",
              "    [theme=dark] .colab-df-convert:hover {\n",
              "      background-color: #434B5C;\n",
              "      box-shadow: 0px 1px 3px 1px rgba(0, 0, 0, 0.15);\n",
              "      filter: drop-shadow(0px 1px 2px rgba(0, 0, 0, 0.3));\n",
              "      fill: #FFFFFF;\n",
              "    }\n",
              "  </style>\n",
              "\n",
              "      <script>\n",
              "        const buttonEl =\n",
              "          document.querySelector('#df-7ba77898-ec7f-47bd-b239-b84f94adc260 button.colab-df-convert');\n",
              "        buttonEl.style.display =\n",
              "          google.colab.kernel.accessAllowed ? 'block' : 'none';\n",
              "\n",
              "        async function convertToInteractive(key) {\n",
              "          const element = document.querySelector('#df-7ba77898-ec7f-47bd-b239-b84f94adc260');\n",
              "          const dataTable =\n",
              "            await google.colab.kernel.invokeFunction('convertToInteractive',\n",
              "                                                     [key], {});\n",
              "          if (!dataTable) return;\n",
              "\n",
              "          const docLinkHtml = 'Like what you see? Visit the ' +\n",
              "            '<a target=\"_blank\" href=https://colab.research.google.com/notebooks/data_table.ipynb>data table notebook</a>'\n",
              "            + ' to learn more about interactive tables.';\n",
              "          element.innerHTML = '';\n",
              "          dataTable['output_type'] = 'display_data';\n",
              "          await google.colab.output.renderOutput(dataTable, element);\n",
              "          const docLink = document.createElement('div');\n",
              "          docLink.innerHTML = docLinkHtml;\n",
              "          element.appendChild(docLink);\n",
              "        }\n",
              "      </script>\n",
              "    </div>\n",
              "  </div>\n",
              "  "
            ]
          },
          "metadata": {},
          "execution_count": 120
        }
      ]
    },
    {
      "cell_type": "code",
      "source": [
        "plt.figure(figsize=(10,8))\n",
        "plt.plot(df_1[:50])\n",
        "plt.legend([\"Actualy\",\"predicted\"]);"
      ],
      "metadata": {
        "execution": {
          "iopub.status.busy": "2022-09-12T13:24:57.162436Z",
          "iopub.execute_input": "2022-09-12T13:24:57.163202Z",
          "iopub.status.idle": "2022-09-12T13:24:57.545686Z",
          "shell.execute_reply.started": "2022-09-12T13:24:57.163148Z",
          "shell.execute_reply": "2022-09-12T13:24:57.544478Z"
        },
        "trusted": true,
        "colab": {
          "base_uri": "https://localhost:8080/",
          "height": 483
        },
        "id": "P_OLWPXR4eQE",
        "outputId": "a479ded7-cf41-45e5-ad57-0a3cb721bc7e"
      },
      "execution_count": 121,
      "outputs": [
        {
          "output_type": "display_data",
          "data": {
            "text/plain": [
              "<Figure size 720x576 with 1 Axes>"
            ],
            "image/png": "[encoded data removed]"
          },
          "metadata": {
            "needs_background": "light"
          }
        }
      ]
    },
    {
      "cell_type": "markdown",
      "source": [
        "# Ridge Model\n"
      ],
      "metadata": {
        "id": "bm-kO-Pb4eQF"
      }
    },
    {
      "cell_type": "code",
      "source": [
        "from sklearn import linear_model\n",
        "rid = linear_model.Ridge(alpha=0.9)\n",
        "rid.fit(x_train,y_train)"
      ],
      "metadata": {
        "execution": {
          "iopub.status.busy": "2022-09-12T13:24:57.547634Z",
          "iopub.execute_input": "2022-09-12T13:24:57.548449Z",
          "iopub.status.idle": "2022-09-12T13:24:57.562506Z",
          "shell.execute_reply.started": "2022-09-12T13:24:57.548397Z",
          "shell.execute_reply": "2022-09-12T13:24:57.561160Z"
        },
        "trusted": true,
        "colab": {
          "base_uri": "https://localhost:8080/"
        },
        "id": "RTVYP_Xp4eQG",
        "outputId": "b8e8e2dd-53f3-4a61-8ce7-58b3cc32af4a"
      },
      "execution_count": 122,
      "outputs": [
        {
          "output_type": "execute_result",
          "data": {
            "text/plain": [
              "Ridge(alpha=0.9)"
            ]
          },
          "metadata": {},
          "execution_count": 122
        }
      ]
    },
    {
      "cell_type": "code",
      "source": [
        "rid.score(x_train,y_train)"
      ],
      "metadata": {
        "execution": {
          "iopub.status.busy": "2022-09-12T13:24:57.566579Z",
          "iopub.execute_input": "2022-09-12T13:24:57.566972Z",
          "iopub.status.idle": "2022-09-12T13:24:57.576444Z",
          "shell.execute_reply.started": "2022-09-12T13:24:57.566937Z",
          "shell.execute_reply": "2022-09-12T13:24:57.575086Z"
        },
        "trusted": true,
        "colab": {
          "base_uri": "https://localhost:8080/"
        },
        "id": "t0ZWY8C54eQH",
        "outputId": "a875d047-a522-45c4-d70b-adb502e03ec5"
      },
      "execution_count": 123,
      "outputs": [
        {
          "output_type": "execute_result",
          "data": {
            "text/plain": [
              "0.622121391492549"
            ]
          },
          "metadata": {},
          "execution_count": 123
        }
      ]
    },
    {
      "cell_type": "code",
      "source": [
        "rid.score(x_test,y_test)"
      ],
      "metadata": {
        "execution": {
          "iopub.status.busy": "2022-09-12T13:24:57.578512Z",
          "iopub.execute_input": "2022-09-12T13:24:57.579197Z",
          "iopub.status.idle": "2022-09-12T13:24:57.608741Z",
          "shell.execute_reply.started": "2022-09-12T13:24:57.579158Z",
          "shell.execute_reply": "2022-09-12T13:24:57.607334Z"
        },
        "trusted": true,
        "colab": {
          "base_uri": "https://localhost:8080/"
        },
        "id": "woR-LOeP4eQH",
        "outputId": "0e00bbb6-774a-42f7-d1f8-d03c6da5260c"
      },
      "execution_count": 124,
      "outputs": [
        {
          "output_type": "execute_result",
          "data": {
            "text/plain": [
              "0.612560603130902"
            ]
          },
          "metadata": {},
          "execution_count": 124
        }
      ]
    },
    {
      "cell_type": "code",
      "source": [
        "rid.intercept_"
      ],
      "metadata": {
        "execution": {
          "iopub.status.busy": "2022-09-12T13:24:57.610849Z",
          "iopub.execute_input": "2022-09-12T13:24:57.611655Z",
          "iopub.status.idle": "2022-09-12T13:24:57.619982Z",
          "shell.execute_reply.started": "2022-09-12T13:24:57.611591Z",
          "shell.execute_reply": "2022-09-12T13:24:57.618777Z"
        },
        "trusted": true,
        "colab": {
          "base_uri": "https://localhost:8080/"
        },
        "id": "pCbvG0nF4eQI",
        "outputId": "91c39b18-b547-4128-d9ac-a1063e7b51f7"
      },
      "execution_count": 125,
      "outputs": [
        {
          "output_type": "execute_result",
          "data": {
            "text/plain": [
              "206.58353735313273"
            ]
          },
          "metadata": {},
          "execution_count": 125
        }
      ]
    },
    {
      "cell_type": "code",
      "source": [
        "rid.coef_"
      ],
      "metadata": {
        "execution": {
          "iopub.status.busy": "2022-09-12T13:24:57.621907Z",
          "iopub.execute_input": "2022-09-12T13:24:57.622678Z",
          "iopub.status.idle": "2022-09-12T13:24:57.634820Z",
          "shell.execute_reply.started": "2022-09-12T13:24:57.622629Z",
          "shell.execute_reply": "2022-09-12T13:24:57.633550Z"
        },
        "trusted": true,
        "colab": {
          "base_uri": "https://localhost:8080/"
        },
        "id": "jw4eczO64eQJ",
        "outputId": "55884f8e-6784-46ad-e6db-0c115dd98ab6"
      },
      "execution_count": 126,
      "outputs": [
        {
          "output_type": "execute_result",
          "data": {
            "text/plain": [
              "array([  -2.34875603,   59.16228955,  -19.19104823,  -65.88797435,\n",
              "         -3.01719729, -107.65600476,   -6.66014643])"
            ]
          },
          "metadata": {},
          "execution_count": 126
        }
      ]
    },
    {
      "cell_type": "code",
      "source": [
        "pd.DataFrame(rid.coef_,cars.columns[:-1],columns=['coeficients'])"
      ],
      "metadata": {
        "execution": {
          "iopub.status.busy": "2022-09-12T13:24:57.636904Z",
          "iopub.execute_input": "2022-09-12T13:24:57.637726Z",
          "iopub.status.idle": "2022-09-12T13:24:57.652440Z",
          "shell.execute_reply.started": "2022-09-12T13:24:57.637677Z",
          "shell.execute_reply": "2022-09-12T13:24:57.651165Z"
        },
        "trusted": true,
        "colab": {
          "base_uri": "https://localhost:8080/",
          "height": 269
        },
        "id": "lM08pMGe4eQK",
        "outputId": "6595b628-b19e-4324-e810-abfed9c31100"
      },
      "execution_count": 127,
      "outputs": [
        {
          "output_type": "execute_result",
          "data": {
            "text/plain": [
              "               coeficients\n",
              "Model            -2.348756\n",
              "Year             59.162290\n",
              "Selling_Price   -19.191048\n",
              "KM_Driven       -65.887974\n",
              "Fuel             -3.017197\n",
              "Seller_Type    -107.656005\n",
              "Transmission     -6.660146"
            ],
            "text/html": [
              "\n",
              "  <div id=\"df-cc01c3fa-4a74-4efe-8410-f40538e0ddbb\">\n",
              "    <div class=\"colab-df-container\">\n",
              "      <div>\n",
              "<style scoped>\n",
              "    .dataframe tbody tr th:only-of-type {\n",
              "        vertical-align: middle;\n",
              "    }\n",
              "\n",
              "    .dataframe tbody tr th {\n",
              "        vertical-align: top;\n",
              "    }\n",
              "\n",
              "    .dataframe thead th {\n",
              "        text-align: right;\n",
              "    }\n",
              "</style>\n",
              "<table border=\"1\" class=\"dataframe\">\n",
              "  <thead>\n",
              "    <tr style=\"text-align: right;\">\n",
              "      <th></th>\n",
              "      <th>coeficients</th>\n",
              "    </tr>\n",
              "  </thead>\n",
              "  <tbody>\n",
              "    <tr>\n",
              "      <th>Model</th>\n",
              "      <td>-2.348756</td>\n",
              "    </tr>\n",
              "    <tr>\n",
              "      <th>Year</th>\n",
              "      <td>59.162290</td>\n",
              "    </tr>\n",
              "    <tr>\n",
              "      <th>Selling_Price</th>\n",
              "      <td>-19.191048</td>\n",
              "    </tr>\n",
              "    <tr>\n",
              "      <th>KM_Driven</th>\n",
              "      <td>-65.887974</td>\n",
              "    </tr>\n",
              "    <tr>\n",
              "      <th>Fuel</th>\n",
              "      <td>-3.017197</td>\n",
              "    </tr>\n",
              "    <tr>\n",
              "      <th>Seller_Type</th>\n",
              "      <td>-107.656005</td>\n",
              "    </tr>\n",
              "    <tr>\n",
              "      <th>Transmission</th>\n",
              "      <td>-6.660146</td>\n",
              "    </tr>\n",
              "  </tbody>\n",
              "</table>\n",
              "</div>\n",
              "      <button class=\"colab-df-convert\" onclick=\"convertToInteractive('df-cc01c3fa-4a74-4efe-8410-f40538e0ddbb')\"\n",
              "              title=\"Convert this dataframe to an interactive table.\"\n",
              "              style=\"display:none;\">\n",
              "        \n",
              "  <svg xmlns=\"http://www.w3.org/2000/svg\" height=\"24px\"viewBox=\"0 0 24 24\"\n",
              "       width=\"24px\">\n",
              "    <path d=\"M0 0h24v24H0V0z\" fill=\"none\"/>\n",
              "    <path d=\"M18.56 5.44l.94 2.06.94-2.06 2.06-.94-2.06-.94-.94-2.06-.94 2.06-2.06.94zm-11 1L8.5 8.5l.94-2.06 2.06-.94-2.06-.94L8.5 2.5l-.94 2.06-2.06.94zm10 10l.94 2.06.94-2.06 2.06-.94-2.06-.94-.94-2.06-.94 2.06-2.06.94z\"/><path d=\"M17.41 7.96l-1.37-1.37c-.4-.4-.92-.59-1.43-.59-.52 0-1.04.2-1.43.59L10.3 9.45l-7.72 7.72c-.78.78-.78 2.05 0 2.83L4 21.41c.39.39.9.59 1.41.59.51 0 1.02-.2 1.41-.59l7.78-7.78 2.81-2.81c.8-.78.8-2.07 0-2.86zM5.41 20L4 18.59l7.72-7.72 1.47 1.35L5.41 20z\"/>\n",
              "  </svg>\n",
              "      </button>\n",
              "      \n",
              "  <style>\n",
              "    .colab-df-container {\n",
              "      display:flex;\n",
              "      flex-wrap:wrap;\n",
              "      gap: 12px;\n",
              "    }\n",
              "\n",
              "    .colab-df-convert {\n",
              "      background-color: #E8F0FE;\n",
              "      border: none;\n",
              "      border-radius: 50%;\n",
              "      cursor: pointer;\n",
              "      display: none;\n",
              "      fill: #1967D2;\n",
              "      height: 32px;\n",
              "      padding: 0 0 0 0;\n",
              "      width: 32px;\n",
              "    }\n",
              "\n",
              "    .colab-df-convert:hover {\n",
              "      background-color: #E2EBFA;\n",
              "      box-shadow: 0px 1px 2px rgba(60, 64, 67, 0.3), 0px 1px 3px 1px rgba(60, 64, 67, 0.15);\n",
              "      fill: #174EA6;\n",
              "    }\n",
              "\n",
              "    [theme=dark] .colab-df-convert {\n",
              "      background-color: #3B4455;\n",
              "      fill: #D2E3FC;\n",
              "    }\n",
              "\n",
              "    [theme=dark] .colab-df-convert:hover {\n",
              "      background-color: #434B5C;\n",
              "      box-shadow: 0px 1px 3px 1px rgba(0, 0, 0, 0.15);\n",
              "      filter: drop-shadow(0px 1px 2px rgba(0, 0, 0, 0.3));\n",
              "      fill: #FFFFFF;\n",
              "    }\n",
              "  </style>\n",
              "\n",
              "      <script>\n",
              "        const buttonEl =\n",
              "          document.querySelector('#df-cc01c3fa-4a74-4efe-8410-f40538e0ddbb button.colab-df-convert');\n",
              "        buttonEl.style.display =\n",
              "          google.colab.kernel.accessAllowed ? 'block' : 'none';\n",
              "\n",
              "        async function convertToInteractive(key) {\n",
              "          const element = document.querySelector('#df-cc01c3fa-4a74-4efe-8410-f40538e0ddbb');\n",
              "          const dataTable =\n",
              "            await google.colab.kernel.invokeFunction('convertToInteractive',\n",
              "                                                     [key], {});\n",
              "          if (!dataTable) return;\n",
              "\n",
              "          const docLinkHtml = 'Like what you see? Visit the ' +\n",
              "            '<a target=\"_blank\" href=https://colab.research.google.com/notebooks/data_table.ipynb>data table notebook</a>'\n",
              "            + ' to learn more about interactive tables.';\n",
              "          element.innerHTML = '';\n",
              "          dataTable['output_type'] = 'display_data';\n",
              "          await google.colab.output.renderOutput(dataTable, element);\n",
              "          const docLink = document.createElement('div');\n",
              "          docLink.innerHTML = docLinkHtml;\n",
              "          element.appendChild(docLink);\n",
              "        }\n",
              "      </script>\n",
              "    </div>\n",
              "  </div>\n",
              "  "
            ]
          },
          "metadata": {},
          "execution_count": 127
        }
      ]
    },
    {
      "cell_type": "code",
      "source": [
        "y_pred_2 = rid.predict(x_test)"
      ],
      "metadata": {
        "execution": {
          "iopub.status.busy": "2022-09-12T13:24:57.654441Z",
          "iopub.execute_input": "2022-09-12T13:24:57.655277Z",
          "iopub.status.idle": "2022-09-12T13:24:57.707379Z",
          "shell.execute_reply.started": "2022-09-12T13:24:57.655224Z",
          "shell.execute_reply": "2022-09-12T13:24:57.706321Z"
        },
        "trusted": true,
        "id": "OasWbd144eQM"
      },
      "execution_count": 128,
      "outputs": []
    },
    {
      "cell_type": "code",
      "source": [
        "df_2 = pd.DataFrame({'y_test':y_test,'Y_pred':y_pred_2})"
      ],
      "metadata": {
        "execution": {
          "iopub.status.busy": "2022-09-12T13:24:57.709330Z",
          "iopub.execute_input": "2022-09-12T13:24:57.710161Z",
          "iopub.status.idle": "2022-09-12T13:24:57.720963Z",
          "shell.execute_reply.started": "2022-09-12T13:24:57.710105Z",
          "shell.execute_reply": "2022-09-12T13:24:57.719926Z"
        },
        "trusted": true,
        "id": "mHw36Q_24eQN"
      },
      "execution_count": 129,
      "outputs": []
    },
    {
      "cell_type": "code",
      "source": [
        "df_2.head(10)"
      ],
      "metadata": {
        "execution": {
          "iopub.status.busy": "2022-09-12T13:24:57.722655Z",
          "iopub.execute_input": "2022-09-12T13:24:57.723543Z",
          "iopub.status.idle": "2022-09-12T13:24:57.745611Z",
          "shell.execute_reply.started": "2022-09-12T13:24:57.723492Z",
          "shell.execute_reply": "2022-09-12T13:24:57.743798Z"
        },
        "trusted": true,
        "colab": {
          "base_uri": "https://localhost:8080/",
          "height": 363
        },
        "id": "6ayxjSmv4eQO",
        "outputId": "73d9916a-6006-4780-e31a-c82d8c6343cc"
      },
      "execution_count": 130,
      "outputs": [
        {
          "output_type": "execute_result",
          "data": {
            "text/plain": [
              "   y_test      Y_pred\n",
              "0      75  168.085316\n",
              "1     114  211.388468\n",
              "2      52   94.613635\n",
              "3     193  197.028654\n",
              "4     275  337.454135\n",
              "5      70  139.851444\n",
              "6     216  183.384787\n",
              "7      39  147.591884\n",
              "8     129  237.761149\n",
              "9     118  144.208119"
            ],
            "text/html": [
              "\n",
              "  <div id=\"df-1c73d5cf-9a46-4849-a016-ae540c317c49\">\n",
              "    <div class=\"colab-df-container\">\n",
              "      <div>\n",
              "<style scoped>\n",
              "    .dataframe tbody tr th:only-of-type {\n",
              "        vertical-align: middle;\n",
              "    }\n",
              "\n",
              "    .dataframe tbody tr th {\n",
              "        vertical-align: top;\n",
              "    }\n",
              "\n",
              "    .dataframe thead th {\n",
              "        text-align: right;\n",
              "    }\n",
              "</style>\n",
              "<table border=\"1\" class=\"dataframe\">\n",
              "  <thead>\n",
              "    <tr style=\"text-align: right;\">\n",
              "      <th></th>\n",
              "      <th>y_test</th>\n",
              "      <th>Y_pred</th>\n",
              "    </tr>\n",
              "  </thead>\n",
              "  <tbody>\n",
              "    <tr>\n",
              "      <th>0</th>\n",
              "      <td>75</td>\n",
              "      <td>168.085316</td>\n",
              "    </tr>\n",
              "    <tr>\n",
              "      <th>1</th>\n",
              "      <td>114</td>\n",
              "      <td>211.388468</td>\n",
              "    </tr>\n",
              "    <tr>\n",
              "      <th>2</th>\n",
              "      <td>52</td>\n",
              "      <td>94.613635</td>\n",
              "    </tr>\n",
              "    <tr>\n",
              "      <th>3</th>\n",
              "      <td>193</td>\n",
              "      <td>197.028654</td>\n",
              "    </tr>\n",
              "    <tr>\n",
              "      <th>4</th>\n",
              "      <td>275</td>\n",
              "      <td>337.454135</td>\n",
              "    </tr>\n",
              "    <tr>\n",
              "      <th>5</th>\n",
              "      <td>70</td>\n",
              "      <td>139.851444</td>\n",
              "    </tr>\n",
              "    <tr>\n",
              "      <th>6</th>\n",
              "      <td>216</td>\n",
              "      <td>183.384787</td>\n",
              "    </tr>\n",
              "    <tr>\n",
              "      <th>7</th>\n",
              "      <td>39</td>\n",
              "      <td>147.591884</td>\n",
              "    </tr>\n",
              "    <tr>\n",
              "      <th>8</th>\n",
              "      <td>129</td>\n",
              "      <td>237.761149</td>\n",
              "    </tr>\n",
              "    <tr>\n",
              "      <th>9</th>\n",
              "      <td>118</td>\n",
              "      <td>144.208119</td>\n",
              "    </tr>\n",
              "  </tbody>\n",
              "</table>\n",
              "</div>\n",
              "      <button class=\"colab-df-convert\" onclick=\"convertToInteractive('df-1c73d5cf-9a46-4849-a016-ae540c317c49')\"\n",
              "              title=\"Convert this dataframe to an interactive table.\"\n",
              "              style=\"display:none;\">\n",
              "        \n",
              "  <svg xmlns=\"http://www.w3.org/2000/svg\" height=\"24px\"viewBox=\"0 0 24 24\"\n",
              "       width=\"24px\">\n",
              "    <path d=\"M0 0h24v24H0V0z\" fill=\"none\"/>\n",
              "    <path d=\"M18.56 5.44l.94 2.06.94-2.06 2.06-.94-2.06-.94-.94-2.06-.94 2.06-2.06.94zm-11 1L8.5 8.5l.94-2.06 2.06-.94-2.06-.94L8.5 2.5l-.94 2.06-2.06.94zm10 10l.94 2.06.94-2.06 2.06-.94-2.06-.94-.94-2.06-.94 2.06-2.06.94z\"/><path d=\"M17.41 7.96l-1.37-1.37c-.4-.4-.92-.59-1.43-.59-.52 0-1.04.2-1.43.59L10.3 9.45l-7.72 7.72c-.78.78-.78 2.05 0 2.83L4 21.41c.39.39.9.59 1.41.59.51 0 1.02-.2 1.41-.59l7.78-7.78 2.81-2.81c.8-.78.8-2.07 0-2.86zM5.41 20L4 18.59l7.72-7.72 1.47 1.35L5.41 20z\"/>\n",
              "  </svg>\n",
              "      </button>\n",
              "      \n",
              "  <style>\n",
              "    .colab-df-container {\n",
              "      display:flex;\n",
              "      flex-wrap:wrap;\n",
              "      gap: 12px;\n",
              "    }\n",
              "\n",
              "    .colab-df-convert {\n",
              "      background-color: #E8F0FE;\n",
              "      border: none;\n",
              "      border-radius: 50%;\n",
              "      cursor: pointer;\n",
              "      display: none;\n",
              "      fill: #1967D2;\n",
              "      height: 32px;\n",
              "      padding: 0 0 0 0;\n",
              "      width: 32px;\n",
              "    }\n",
              "\n",
              "    .colab-df-convert:hover {\n",
              "      background-color: #E2EBFA;\n",
              "      box-shadow: 0px 1px 2px rgba(60, 64, 67, 0.3), 0px 1px 3px 1px rgba(60, 64, 67, 0.15);\n",
              "      fill: #174EA6;\n",
              "    }\n",
              "\n",
              "    [theme=dark] .colab-df-convert {\n",
              "      background-color: #3B4455;\n",
              "      fill: #D2E3FC;\n",
              "    }\n",
              "\n",
              "    [theme=dark] .colab-df-convert:hover {\n",
              "      background-color: #434B5C;\n",
              "      box-shadow: 0px 1px 3px 1px rgba(0, 0, 0, 0.15);\n",
              "      filter: drop-shadow(0px 1px 2px rgba(0, 0, 0, 0.3));\n",
              "      fill: #FFFFFF;\n",
              "    }\n",
              "  </style>\n",
              "\n",
              "      <script>\n",
              "        const buttonEl =\n",
              "          document.querySelector('#df-1c73d5cf-9a46-4849-a016-ae540c317c49 button.colab-df-convert');\n",
              "        buttonEl.style.display =\n",
              "          google.colab.kernel.accessAllowed ? 'block' : 'none';\n",
              "\n",
              "        async function convertToInteractive(key) {\n",
              "          const element = document.querySelector('#df-1c73d5cf-9a46-4849-a016-ae540c317c49');\n",
              "          const dataTable =\n",
              "            await google.colab.kernel.invokeFunction('convertToInteractive',\n",
              "                                                     [key], {});\n",
              "          if (!dataTable) return;\n",
              "\n",
              "          const docLinkHtml = 'Like what you see? Visit the ' +\n",
              "            '<a target=\"_blank\" href=https://colab.research.google.com/notebooks/data_table.ipynb>data table notebook</a>'\n",
              "            + ' to learn more about interactive tables.';\n",
              "          element.innerHTML = '';\n",
              "          dataTable['output_type'] = 'display_data';\n",
              "          await google.colab.output.renderOutput(dataTable, element);\n",
              "          const docLink = document.createElement('div');\n",
              "          docLink.innerHTML = docLinkHtml;\n",
              "          element.appendChild(docLink);\n",
              "        }\n",
              "      </script>\n",
              "    </div>\n",
              "  </div>\n",
              "  "
            ]
          },
          "metadata": {},
          "execution_count": 130
        }
      ]
    },
    {
      "cell_type": "code",
      "source": [
        "plt.figure(figsize=(10,8))\n",
        "plt.plot(df_2[:50])\n",
        "plt.legend([\"Actualy\",\"predicted\"]);"
      ],
      "metadata": {
        "execution": {
          "iopub.status.busy": "2022-09-12T13:24:57.747647Z",
          "iopub.execute_input": "2022-09-12T13:24:57.748583Z",
          "iopub.status.idle": "2022-09-12T13:24:58.066642Z",
          "shell.execute_reply.started": "2022-09-12T13:24:57.748529Z",
          "shell.execute_reply": "2022-09-12T13:24:58.065338Z"
        },
        "trusted": true,
        "colab": {
          "base_uri": "https://localhost:8080/",
          "height": 483
        },
        "id": "UZZImpZK4eQP",
        "outputId": "5f4c79d9-e5b9-4a39-ff61-7d286c1c889a"
      },
      "execution_count": 131,
      "outputs": [
        {
          "output_type": "display_data",
          "data": {
            "text/plain": [
              "<Figure size 720x576 with 1 Axes>"
            ],
            "image/png": "[encoded data removed]"
          },
          "metadata": {
            "needs_background": "light"
          }
        }
      ]
    },
    {
      "cell_type": "markdown",
      "source": [
        "# Lasso Model"
      ],
      "metadata": {
        "id": "7MyNrYYY4eQP"
      }
    },
    {
      "cell_type": "code",
      "source": [
        "from sklearn import linear_model\n",
        "lass = linear_model.Lasso(alpha=0.6)\n",
        "lass.fit(x_train,y_train)"
      ],
      "metadata": {
        "execution": {
          "iopub.status.busy": "2022-09-12T13:24:58.068859Z",
          "iopub.execute_input": "2022-09-12T13:24:58.069772Z",
          "iopub.status.idle": "2022-09-12T13:24:58.101455Z",
          "shell.execute_reply.started": "2022-09-12T13:24:58.069716Z",
          "shell.execute_reply": "2022-09-12T13:24:58.082289Z"
        },
        "trusted": true,
        "colab": {
          "base_uri": "https://localhost:8080/"
        },
        "id": "BV1Y36TC4eQQ",
        "outputId": "9e22fdce-be88-4f89-f46c-9e7a335c0e0c"
      },
      "execution_count": 132,
      "outputs": [
        {
          "output_type": "execute_result",
          "data": {
            "text/plain": [
              "Lasso(alpha=0.6)"
            ]
          },
          "metadata": {},
          "execution_count": 132
        }
      ]
    },
    {
      "cell_type": "code",
      "source": [
        "lass.score(x_train,y_train)"
      ],
      "metadata": {
        "execution": {
          "iopub.status.busy": "2022-09-12T13:24:58.105465Z",
          "iopub.execute_input": "2022-09-12T13:24:58.106355Z",
          "iopub.status.idle": "2022-09-12T13:24:58.117611Z",
          "shell.execute_reply.started": "2022-09-12T13:24:58.106300Z",
          "shell.execute_reply": "2022-09-12T13:24:58.115801Z"
        },
        "trusted": true,
        "colab": {
          "base_uri": "https://localhost:8080/"
        },
        "id": "7s_3njY_4eQR",
        "outputId": "1dd14786-9d77-418b-c795-ce9af4b27e1f"
      },
      "execution_count": 133,
      "outputs": [
        {
          "output_type": "execute_result",
          "data": {
            "text/plain": [
              "0.6213888516581206"
            ]
          },
          "metadata": {},
          "execution_count": 133
        }
      ]
    },
    {
      "cell_type": "code",
      "source": [
        "lass.score(x_test,y_test)"
      ],
      "metadata": {
        "execution": {
          "iopub.status.busy": "2022-09-12T13:24:58.120318Z",
          "iopub.execute_input": "2022-09-12T13:24:58.122885Z",
          "iopub.status.idle": "2022-09-12T13:24:58.134743Z",
          "shell.execute_reply.started": "2022-09-12T13:24:58.122829Z",
          "shell.execute_reply": "2022-09-12T13:24:58.133107Z"
        },
        "trusted": true,
        "colab": {
          "base_uri": "https://localhost:8080/"
        },
        "id": "I2zu-yiz4eQS",
        "outputId": "af7adf07-728a-49fb-c80c-d792047caf57"
      },
      "execution_count": 134,
      "outputs": [
        {
          "output_type": "execute_result",
          "data": {
            "text/plain": [
              "0.6086848464868863"
            ]
          },
          "metadata": {},
          "execution_count": 134
        }
      ]
    },
    {
      "cell_type": "code",
      "source": [
        "lass.intercept_"
      ],
      "metadata": {
        "execution": {
          "iopub.status.busy": "2022-09-12T13:24:58.136918Z",
          "iopub.execute_input": "2022-09-12T13:24:58.138106Z",
          "iopub.status.idle": "2022-09-12T13:24:58.147491Z",
          "shell.execute_reply.started": "2022-09-12T13:24:58.138028Z",
          "shell.execute_reply": "2022-09-12T13:24:58.145757Z"
        },
        "trusted": true,
        "colab": {
          "base_uri": "https://localhost:8080/"
        },
        "id": "PDbwUcLl4eQT",
        "outputId": "97604fe5-a0e7-4a15-ae14-cb2f601e7778"
      },
      "execution_count": 135,
      "outputs": [
        {
          "output_type": "execute_result",
          "data": {
            "text/plain": [
              "205.8896232132248"
            ]
          },
          "metadata": {},
          "execution_count": 135
        }
      ]
    },
    {
      "cell_type": "code",
      "source": [
        "lass.coef_"
      ],
      "metadata": {
        "execution": {
          "iopub.status.busy": "2022-09-12T13:24:58.149981Z",
          "iopub.execute_input": "2022-09-12T13:24:58.151746Z",
          "iopub.status.idle": "2022-09-12T13:24:58.162250Z",
          "shell.execute_reply.started": "2022-09-12T13:24:58.151689Z",
          "shell.execute_reply": "2022-09-12T13:24:58.161027Z"
        },
        "trusted": true,
        "colab": {
          "base_uri": "https://localhost:8080/"
        },
        "id": "SxRIC1644eQT",
        "outputId": "8cee220c-de1f-4990-cc1a-8bbf91777d58"
      },
      "execution_count": 136,
      "outputs": [
        {
          "output_type": "execute_result",
          "data": {
            "text/plain": [
              "array([  -1.79522301,   60.02163474,  -16.94591116,  -62.71794256,\n",
              "         -1.47604048, -102.75784985,   -5.7268633 ])"
            ]
          },
          "metadata": {},
          "execution_count": 136
        }
      ]
    },
    {
      "cell_type": "code",
      "source": [
        "pd.DataFrame(lass.coef_,cars.columns[:-1],columns=['coeficients'])"
      ],
      "metadata": {
        "execution": {
          "iopub.status.busy": "2022-09-12T13:24:58.201369Z",
          "iopub.execute_input": "2022-09-12T13:24:58.202704Z",
          "iopub.status.idle": "2022-09-12T13:24:58.218649Z",
          "shell.execute_reply.started": "2022-09-12T13:24:58.202570Z",
          "shell.execute_reply": "2022-09-12T13:24:58.216219Z"
        },
        "trusted": true,
        "colab": {
          "base_uri": "https://localhost:8080/",
          "height": 269
        },
        "id": "KIbA1CZ34eQU",
        "outputId": "ca1bd9d4-2a65-4194-e10f-84ef3ce9479c"
      },
      "execution_count": 137,
      "outputs": [
        {
          "output_type": "execute_result",
          "data": {
            "text/plain": [
              "               coeficients\n",
              "Model            -1.795223\n",
              "Year             60.021635\n",
              "Selling_Price   -16.945911\n",
              "KM_Driven       -62.717943\n",
              "Fuel             -1.476040\n",
              "Seller_Type    -102.757850\n",
              "Transmission     -5.726863"
            ],
            "text/html": [
              "\n",
              "  <div id=\"df-c6b804c8-9686-4fa2-b382-811002c5e6ec\">\n",
              "    <div class=\"colab-df-container\">\n",
              "      <div>\n",
              "<style scoped>\n",
              "    .dataframe tbody tr th:only-of-type {\n",
              "        vertical-align: middle;\n",
              "    }\n",
              "\n",
              "    .dataframe tbody tr th {\n",
              "        vertical-align: top;\n",
              "    }\n",
              "\n",
              "    .dataframe thead th {\n",
              "        text-align: right;\n",
              "    }\n",
              "</style>\n",
              "<table border=\"1\" class=\"dataframe\">\n",
              "  <thead>\n",
              "    <tr style=\"text-align: right;\">\n",
              "      <th></th>\n",
              "      <th>coeficients</th>\n",
              "    </tr>\n",
              "  </thead>\n",
              "  <tbody>\n",
              "    <tr>\n",
              "      <th>Model</th>\n",
              "      <td>-1.795223</td>\n",
              "    </tr>\n",
              "    <tr>\n",
              "      <th>Year</th>\n",
              "      <td>60.021635</td>\n",
              "    </tr>\n",
              "    <tr>\n",
              "      <th>Selling_Price</th>\n",
              "      <td>-16.945911</td>\n",
              "    </tr>\n",
              "    <tr>\n",
              "      <th>KM_Driven</th>\n",
              "      <td>-62.717943</td>\n",
              "    </tr>\n",
              "    <tr>\n",
              "      <th>Fuel</th>\n",
              "      <td>-1.476040</td>\n",
              "    </tr>\n",
              "    <tr>\n",
              "      <th>Seller_Type</th>\n",
              "      <td>-102.757850</td>\n",
              "    </tr>\n",
              "    <tr>\n",
              "      <th>Transmission</th>\n",
              "      <td>-5.726863</td>\n",
              "    </tr>\n",
              "  </tbody>\n",
              "</table>\n",
              "</div>\n",
              "      <button class=\"colab-df-convert\" onclick=\"convertToInteractive('df-c6b804c8-9686-4fa2-b382-811002c5e6ec')\"\n",
              "              title=\"Convert this dataframe to an interactive table.\"\n",
              "              style=\"display:none;\">\n",
              "        \n",
              "  <svg xmlns=\"http://www.w3.org/2000/svg\" height=\"24px\"viewBox=\"0 0 24 24\"\n",
              "       width=\"24px\">\n",
              "    <path d=\"M0 0h24v24H0V0z\" fill=\"none\"/>\n",
              "    <path d=\"M18.56 5.44l.94 2.06.94-2.06 2.06-.94-2.06-.94-.94-2.06-.94 2.06-2.06.94zm-11 1L8.5 8.5l.94-2.06 2.06-.94-2.06-.94L8.5 2.5l-.94 2.06-2.06.94zm10 10l.94 2.06.94-2.06 2.06-.94-2.06-.94-.94-2.06-.94 2.06-2.06.94z\"/><path d=\"M17.41 7.96l-1.37-1.37c-.4-.4-.92-.59-1.43-.59-.52 0-1.04.2-1.43.59L10.3 9.45l-7.72 7.72c-.78.78-.78 2.05 0 2.83L4 21.41c.39.39.9.59 1.41.59.51 0 1.02-.2 1.41-.59l7.78-7.78 2.81-2.81c.8-.78.8-2.07 0-2.86zM5.41 20L4 18.59l7.72-7.72 1.47 1.35L5.41 20z\"/>\n",
              "  </svg>\n",
              "      </button>\n",
              "      \n",
              "  <style>\n",
              "    .colab-df-container {\n",
              "      display:flex;\n",
              "      flex-wrap:wrap;\n",
              "      gap: 12px;\n",
              "    }\n",
              "\n",
              "    .colab-df-convert {\n",
              "      background-color: #E8F0FE;\n",
              "      border: none;\n",
              "      border-radius: 50%;\n",
              "      cursor: pointer;\n",
              "      display: none;\n",
              "      fill: #1967D2;\n",
              "      height: 32px;\n",
              "      padding: 0 0 0 0;\n",
              "      width: 32px;\n",
              "    }\n",
              "\n",
              "    .colab-df-convert:hover {\n",
              "      background-color: #E2EBFA;\n",
              "      box-shadow: 0px 1px 2px rgba(60, 64, 67, 0.3), 0px 1px 3px 1px rgba(60, 64, 67, 0.15);\n",
              "      fill: #174EA6;\n",
              "    }\n",
              "\n",
              "    [theme=dark] .colab-df-convert {\n",
              "      background-color: #3B4455;\n",
              "      fill: #D2E3FC;\n",
              "    }\n",
              "\n",
              "    [theme=dark] .colab-df-convert:hover {\n",
              "      background-color: #434B5C;\n",
              "      box-shadow: 0px 1px 3px 1px rgba(0, 0, 0, 0.15);\n",
              "      filter: drop-shadow(0px 1px 2px rgba(0, 0, 0, 0.3));\n",
              "      fill: #FFFFFF;\n",
              "    }\n",
              "  </style>\n",
              "\n",
              "      <script>\n",
              "        const buttonEl =\n",
              "          document.querySelector('#df-c6b804c8-9686-4fa2-b382-811002c5e6ec button.colab-df-convert');\n",
              "        buttonEl.style.display =\n",
              "          google.colab.kernel.accessAllowed ? 'block' : 'none';\n",
              "\n",
              "        async function convertToInteractive(key) {\n",
              "          const element = document.querySelector('#df-c6b804c8-9686-4fa2-b382-811002c5e6ec');\n",
              "          const dataTable =\n",
              "            await google.colab.kernel.invokeFunction('convertToInteractive',\n",
              "                                                     [key], {});\n",
              "          if (!dataTable) return;\n",
              "\n",
              "          const docLinkHtml = 'Like what you see? Visit the ' +\n",
              "            '<a target=\"_blank\" href=https://colab.research.google.com/notebooks/data_table.ipynb>data table notebook</a>'\n",
              "            + ' to learn more about interactive tables.';\n",
              "          element.innerHTML = '';\n",
              "          dataTable['output_type'] = 'display_data';\n",
              "          await google.colab.output.renderOutput(dataTable, element);\n",
              "          const docLink = document.createElement('div');\n",
              "          docLink.innerHTML = docLinkHtml;\n",
              "          element.appendChild(docLink);\n",
              "        }\n",
              "      </script>\n",
              "    </div>\n",
              "  </div>\n",
              "  "
            ]
          },
          "metadata": {},
          "execution_count": 137
        }
      ]
    },
    {
      "cell_type": "code",
      "source": [
        "y_pred_3 = lass.predict(x_test)"
      ],
      "metadata": {
        "execution": {
          "iopub.status.busy": "2022-09-12T13:24:58.220990Z",
          "iopub.execute_input": "2022-09-12T13:24:58.222437Z",
          "iopub.status.idle": "2022-09-12T13:24:58.229297Z",
          "shell.execute_reply.started": "2022-09-12T13:24:58.222363Z",
          "shell.execute_reply": "2022-09-12T13:24:58.227712Z"
        },
        "trusted": true,
        "id": "tjK7kHhs4eQV"
      },
      "execution_count": 138,
      "outputs": []
    },
    {
      "cell_type": "code",
      "source": [
        "df_3 = pd.DataFrame({'y_test':y_test,'Y_pred':y_pred_3})"
      ],
      "metadata": {
        "execution": {
          "iopub.status.busy": "2022-09-12T13:24:58.231313Z",
          "iopub.execute_input": "2022-09-12T13:24:58.232458Z",
          "iopub.status.idle": "2022-09-12T13:24:58.241833Z",
          "shell.execute_reply.started": "2022-09-12T13:24:58.232402Z",
          "shell.execute_reply": "2022-09-12T13:24:58.240512Z"
        },
        "trusted": true,
        "id": "9hpMyF7Z4eQW"
      },
      "execution_count": 139,
      "outputs": []
    },
    {
      "cell_type": "code",
      "source": [
        "df_3.head(10)"
      ],
      "metadata": {
        "execution": {
          "iopub.status.busy": "2022-09-12T13:24:58.243704Z",
          "iopub.execute_input": "2022-09-12T13:24:58.244529Z",
          "iopub.status.idle": "2022-09-12T13:24:58.265959Z",
          "shell.execute_reply.started": "2022-09-12T13:24:58.244478Z",
          "shell.execute_reply": "2022-09-12T13:24:58.264965Z"
        },
        "trusted": true,
        "colab": {
          "base_uri": "https://localhost:8080/",
          "height": 363
        },
        "id": "IHV3uXOZ4eQX",
        "outputId": "c69c9bbe-e3ca-4885-f5ce-a73d35a3460c"
      },
      "execution_count": 140,
      "outputs": [
        {
          "output_type": "execute_result",
          "data": {
            "text/plain": [
              "   y_test      Y_pred\n",
              "0      75  168.248837\n",
              "1     114  213.549200\n",
              "2      52   95.872296\n",
              "3     193  198.589854\n",
              "4     275  333.155830\n",
              "5      70  141.283656\n",
              "6     216  181.923679\n",
              "7      39  149.415330\n",
              "8     129  237.464260\n",
              "9     118  143.439906"
            ],
            "text/html": [
              "\n",
              "  <div id=\"df-09ff8a65-3ded-4a56-863c-037cad41f32e\">\n",
              "    <div class=\"colab-df-container\">\n",
              "      <div>\n",
              "<style scoped>\n",
              "    .dataframe tbody tr th:only-of-type {\n",
              "        vertical-align: middle;\n",
              "    }\n",
              "\n",
              "    .dataframe tbody tr th {\n",
              "        vertical-align: top;\n",
              "    }\n",
              "\n",
              "    .dataframe thead th {\n",
              "        text-align: right;\n",
              "    }\n",
              "</style>\n",
              "<table border=\"1\" class=\"dataframe\">\n",
              "  <thead>\n",
              "    <tr style=\"text-align: right;\">\n",
              "      <th></th>\n",
              "      <th>y_test</th>\n",
              "      <th>Y_pred</th>\n",
              "    </tr>\n",
              "  </thead>\n",
              "  <tbody>\n",
              "    <tr>\n",
              "      <th>0</th>\n",
              "      <td>75</td>\n",
              "      <td>168.248837</td>\n",
              "    </tr>\n",
              "    <tr>\n",
              "      <th>1</th>\n",
              "      <td>114</td>\n",
              "      <td>213.549200</td>\n",
              "    </tr>\n",
              "    <tr>\n",
              "      <th>2</th>\n",
              "      <td>52</td>\n",
              "      <td>95.872296</td>\n",
              "    </tr>\n",
              "    <tr>\n",
              "      <th>3</th>\n",
              "      <td>193</td>\n",
              "      <td>198.589854</td>\n",
              "    </tr>\n",
              "    <tr>\n",
              "      <th>4</th>\n",
              "      <td>275</td>\n",
              "      <td>333.155830</td>\n",
              "    </tr>\n",
              "    <tr>\n",
              "      <th>5</th>\n",
              "      <td>70</td>\n",
              "      <td>141.283656</td>\n",
              "    </tr>\n",
              "    <tr>\n",
              "      <th>6</th>\n",
              "      <td>216</td>\n",
              "      <td>181.923679</td>\n",
              "    </tr>\n",
              "    <tr>\n",
              "      <th>7</th>\n",
              "      <td>39</td>\n",
              "      <td>149.415330</td>\n",
              "    </tr>\n",
              "    <tr>\n",
              "      <th>8</th>\n",
              "      <td>129</td>\n",
              "      <td>237.464260</td>\n",
              "    </tr>\n",
              "    <tr>\n",
              "      <th>9</th>\n",
              "      <td>118</td>\n",
              "      <td>143.439906</td>\n",
              "    </tr>\n",
              "  </tbody>\n",
              "</table>\n",
              "</div>\n",
              "      <button class=\"colab-df-convert\" onclick=\"convertToInteractive('df-09ff8a65-3ded-4a56-863c-037cad41f32e')\"\n",
              "              title=\"Convert this dataframe to an interactive table.\"\n",
              "              style=\"display:none;\">\n",
              "        \n",
              "  <svg xmlns=\"http://www.w3.org/2000/svg\" height=\"24px\"viewBox=\"0 0 24 24\"\n",
              "       width=\"24px\">\n",
              "    <path d=\"M0 0h24v24H0V0z\" fill=\"none\"/>\n",
              "    <path d=\"M18.56 5.44l.94 2.06.94-2.06 2.06-.94-2.06-.94-.94-2.06-.94 2.06-2.06.94zm-11 1L8.5 8.5l.94-2.06 2.06-.94-2.06-.94L8.5 2.5l-.94 2.06-2.06.94zm10 10l.94 2.06.94-2.06 2.06-.94-2.06-.94-.94-2.06-.94 2.06-2.06.94z\"/><path d=\"M17.41 7.96l-1.37-1.37c-.4-.4-.92-.59-1.43-.59-.52 0-1.04.2-1.43.59L10.3 9.45l-7.72 7.72c-.78.78-.78 2.05 0 2.83L4 21.41c.39.39.9.59 1.41.59.51 0 1.02-.2 1.41-.59l7.78-7.78 2.81-2.81c.8-.78.8-2.07 0-2.86zM5.41 20L4 18.59l7.72-7.72 1.47 1.35L5.41 20z\"/>\n",
              "  </svg>\n",
              "      </button>\n",
              "      \n",
              "  <style>\n",
              "    .colab-df-container {\n",
              "      display:flex;\n",
              "      flex-wrap:wrap;\n",
              "      gap: 12px;\n",
              "    }\n",
              "\n",
              "    .colab-df-convert {\n",
              "      background-color: #E8F0FE;\n",
              "      border: none;\n",
              "      border-radius: 50%;\n",
              "      cursor: pointer;\n",
              "      display: none;\n",
              "      fill: #1967D2;\n",
              "      height: 32px;\n",
              "      padding: 0 0 0 0;\n",
              "      width: 32px;\n",
              "    }\n",
              "\n",
              "    .colab-df-convert:hover {\n",
              "      background-color: #E2EBFA;\n",
              "      box-shadow: 0px 1px 2px rgba(60, 64, 67, 0.3), 0px 1px 3px 1px rgba(60, 64, 67, 0.15);\n",
              "      fill: #174EA6;\n",
              "    }\n",
              "\n",
              "    [theme=dark] .colab-df-convert {\n",
              "      background-color: #3B4455;\n",
              "      fill: #D2E3FC;\n",
              "    }\n",
              "\n",
              "    [theme=dark] .colab-df-convert:hover {\n",
              "      background-color: #434B5C;\n",
              "      box-shadow: 0px 1px 3px 1px rgba(0, 0, 0, 0.15);\n",
              "      filter: drop-shadow(0px 1px 2px rgba(0, 0, 0, 0.3));\n",
              "      fill: #FFFFFF;\n",
              "    }\n",
              "  </style>\n",
              "\n",
              "      <script>\n",
              "        const buttonEl =\n",
              "          document.querySelector('#df-09ff8a65-3ded-4a56-863c-037cad41f32e button.colab-df-convert');\n",
              "        buttonEl.style.display =\n",
              "          google.colab.kernel.accessAllowed ? 'block' : 'none';\n",
              "\n",
              "        async function convertToInteractive(key) {\n",
              "          const element = document.querySelector('#df-09ff8a65-3ded-4a56-863c-037cad41f32e');\n",
              "          const dataTable =\n",
              "            await google.colab.kernel.invokeFunction('convertToInteractive',\n",
              "                                                     [key], {});\n",
              "          if (!dataTable) return;\n",
              "\n",
              "          const docLinkHtml = 'Like what you see? Visit the ' +\n",
              "            '<a target=\"_blank\" href=https://colab.research.google.com/notebooks/data_table.ipynb>data table notebook</a>'\n",
              "            + ' to learn more about interactive tables.';\n",
              "          element.innerHTML = '';\n",
              "          dataTable['output_type'] = 'display_data';\n",
              "          await google.colab.output.renderOutput(dataTable, element);\n",
              "          const docLink = document.createElement('div');\n",
              "          docLink.innerHTML = docLinkHtml;\n",
              "          element.appendChild(docLink);\n",
              "        }\n",
              "      </script>\n",
              "    </div>\n",
              "  </div>\n",
              "  "
            ]
          },
          "metadata": {},
          "execution_count": 140
        }
      ]
    },
    {
      "cell_type": "code",
      "source": [
        "plt.figure(figsize=(10,8))\n",
        "plt.plot(df_3[:50])\n",
        "plt.legend([\"Actualy\",\"predicted\"]);"
      ],
      "metadata": {
        "execution": {
          "iopub.status.busy": "2022-09-12T13:24:58.269971Z",
          "iopub.execute_input": "2022-09-12T13:24:58.270701Z",
          "iopub.status.idle": "2022-09-12T13:24:58.662435Z",
          "shell.execute_reply.started": "2022-09-12T13:24:58.270659Z",
          "shell.execute_reply": "2022-09-12T13:24:58.661129Z"
        },
        "trusted": true,
        "colab": {
          "base_uri": "https://localhost:8080/",
          "height": 483
        },
        "id": "qW88vj-f4eQX",
        "outputId": "4ddf73bb-b0f2-4c65-a888-04f8f26c5e46"
      },
      "execution_count": 141,
      "outputs": [
        {
          "output_type": "display_data",
          "data": {
            "text/plain": [
              "<Figure size 720x576 with 1 Axes>"
            ],
            "image/png": "[encoded data removed]"
          },
          "metadata": {
            "needs_background": "light"
          }
        }
      ]
    },
    {
      "cell_type": "markdown",
      "source": [
        "# Evaluating models\n"
      ],
      "metadata": {
        "id": "16T4DURH4eQY"
      }
    },
    {
      "cell_type": "markdown",
      "source": [
        "### Linear reg evaluation"
      ],
      "metadata": {
        "id": "5UBjg8xu4eQZ"
      }
    },
    {
      "cell_type": "code",
      "source": [
        "#import r2_score \n",
        "from sklearn.metrics import r2_score"
      ],
      "metadata": {
        "execution": {
          "iopub.status.busy": "2022-09-12T13:24:58.664249Z",
          "iopub.execute_input": "2022-09-12T13:24:58.665605Z",
          "iopub.status.idle": "2022-09-12T13:24:58.671961Z",
          "shell.execute_reply.started": "2022-09-12T13:24:58.665550Z",
          "shell.execute_reply": "2022-09-12T13:24:58.670167Z"
        },
        "trusted": true,
        "id": "JVDPaxmg4eQZ"
      },
      "execution_count": 165,
      "outputs": []
    },
    {
      "cell_type": "code",
      "source": [
        "# calculate r2_score for the model\n",
        "reg_score = r2_score(y_test,y_pred_1)"
      ],
      "metadata": {
        "execution": {
          "iopub.status.busy": "2022-09-12T13:24:58.673883Z",
          "iopub.execute_input": "2022-09-12T13:24:58.674711Z",
          "iopub.status.idle": "2022-09-12T13:24:58.702871Z",
          "shell.execute_reply.started": "2022-09-12T13:24:58.674650Z",
          "shell.execute_reply": "2022-09-12T13:24:58.700980Z"
        },
        "trusted": true,
        "id": "8xkc5TTi4eQa"
      },
      "execution_count": 166,
      "outputs": []
    },
    {
      "cell_type": "code",
      "source": [
        "# calculate adjust r2_score for the model\n",
        "p = len(x_train[0])\n",
        "n = len(y_train)\n",
        "adj_r2 = 1 - (1-reg_score)*(n-1)/(n-p-1)\n",
        "adj_r2"
      ],
      "metadata": {
        "execution": {
          "iopub.status.busy": "2022-09-12T13:24:58.704977Z",
          "iopub.execute_input": "2022-09-12T13:24:58.706239Z",
          "iopub.status.idle": "2022-09-12T13:24:58.716675Z",
          "shell.execute_reply.started": "2022-09-12T13:24:58.706181Z",
          "shell.execute_reply": "2022-09-12T13:24:58.715319Z"
        },
        "trusted": true,
        "colab": {
          "base_uri": "https://localhost:8080/"
        },
        "id": "PDybdGzn4eQb",
        "outputId": "235b5611-9440-4d6e-ef0a-46a16c14fed0"
      },
      "execution_count": 167,
      "outputs": [
        {
          "output_type": "execute_result",
          "data": {
            "text/plain": [
              "0.6117786065961819"
            ]
          },
          "metadata": {},
          "execution_count": 167
        }
      ]
    },
    {
      "cell_type": "code",
      "source": [
        "# check that adjust r2_score is less than r2_score for the model\n",
        "adj_r2 < reg_score"
      ],
      "metadata": {
        "execution": {
          "iopub.status.busy": "2022-09-12T13:24:58.718595Z",
          "iopub.execute_input": "2022-09-12T13:24:58.719788Z",
          "iopub.status.idle": "2022-09-12T13:24:58.730517Z",
          "shell.execute_reply.started": "2022-09-12T13:24:58.719716Z",
          "shell.execute_reply": "2022-09-12T13:24:58.729119Z"
        },
        "trusted": true,
        "colab": {
          "base_uri": "https://localhost:8080/"
        },
        "id": "750kzVKr4eQc",
        "outputId": "e3ae542a-c480-4a27-e225-357b02a58b0d"
      },
      "execution_count": 168,
      "outputs": [
        {
          "output_type": "execute_result",
          "data": {
            "text/plain": [
              "True"
            ]
          },
          "metadata": {},
          "execution_count": 168
        }
      ]
    },
    {
      "cell_type": "code",
      "source": [
        "# import mean_absolute_error and mean_absolute_percentage_error and mean_squared_error\n",
        "from sklearn.metrics import mean_absolute_error,mean_absolute_percentage_error,mean_squared_error"
      ],
      "metadata": {
        "execution": {
          "iopub.status.busy": "2022-09-12T13:24:58.734034Z",
          "iopub.execute_input": "2022-09-12T13:24:58.735312Z",
          "iopub.status.idle": "2022-09-12T13:24:58.744811Z",
          "shell.execute_reply.started": "2022-09-12T13:24:58.735271Z",
          "shell.execute_reply": "2022-09-12T13:24:58.743312Z"
        },
        "trusted": true,
        "id": "I0xx1Jy04eQd"
      },
      "execution_count": 169,
      "outputs": []
    },
    {
      "cell_type": "code",
      "source": [
        "# calculate mean_squared_error\n",
        "mse = mean_squared_error(y_test , y_pred_1)\n",
        "mse"
      ],
      "metadata": {
        "execution": {
          "iopub.status.busy": "2022-09-12T13:24:58.747206Z",
          "iopub.execute_input": "2022-09-12T13:24:58.747808Z",
          "iopub.status.idle": "2022-09-12T13:24:58.761020Z",
          "shell.execute_reply.started": "2022-09-12T13:24:58.747752Z",
          "shell.execute_reply": "2022-09-12T13:24:58.759571Z"
        },
        "trusted": true,
        "colab": {
          "base_uri": "https://localhost:8080/"
        },
        "id": "3lXqJoYs4eQd",
        "outputId": "a166a2c6-82ac-4e83-cbc1-dbc0ae5d6558"
      },
      "execution_count": 170,
      "outputs": [
        {
          "output_type": "execute_result",
          "data": {
            "text/plain": [
              "4045.487246948115"
            ]
          },
          "metadata": {},
          "execution_count": 170
        }
      ]
    },
    {
      "cell_type": "code",
      "source": [
        "# calculate mean_absolute_error\n",
        "mae = mean_absolute_error(y_test , y_pred_1)\n",
        "mae"
      ],
      "metadata": {
        "execution": {
          "iopub.status.busy": "2022-09-12T13:24:58.763419Z",
          "iopub.execute_input": "2022-09-12T13:24:58.764696Z",
          "iopub.status.idle": "2022-09-12T13:24:58.811328Z",
          "shell.execute_reply.started": "2022-09-12T13:24:58.764638Z",
          "shell.execute_reply": "2022-09-12T13:24:58.810159Z"
        },
        "trusted": true,
        "colab": {
          "base_uri": "https://localhost:8080/"
        },
        "id": "PNh-2tVz4eQe",
        "outputId": "f85b1b5c-0504-4063-b08c-106425ae9a1f"
      },
      "execution_count": 171,
      "outputs": [
        {
          "output_type": "execute_result",
          "data": {
            "text/plain": [
              "51.04383130177739"
            ]
          },
          "metadata": {},
          "execution_count": 171
        }
      ]
    },
    {
      "cell_type": "code",
      "source": [
        "# calculate mean_absolute_percentage_error\n",
        "mape = mean_absolute_percentage_error(y_test , y_pred_1)\n",
        "mape"
      ],
      "metadata": {
        "execution": {
          "iopub.status.busy": "2022-09-12T13:24:58.813437Z",
          "iopub.execute_input": "2022-09-12T13:24:58.814500Z",
          "iopub.status.idle": "2022-09-12T13:24:58.824014Z",
          "shell.execute_reply.started": "2022-09-12T13:24:58.814448Z",
          "shell.execute_reply": "2022-09-12T13:24:58.822634Z"
        },
        "trusted": true,
        "colab": {
          "base_uri": "https://localhost:8080/"
        },
        "id": "1v7yrvYS4eQf",
        "outputId": "c5c3dc4d-eec8-42e4-ce1d-90022dc75d6d"
      },
      "execution_count": 172,
      "outputs": [
        {
          "output_type": "execute_result",
          "data": {
            "text/plain": [
              "297186723493804.06"
            ]
          },
          "metadata": {},
          "execution_count": 172
        }
      ]
    },
    {
      "cell_type": "code",
      "source": [
        "# calculate root_mean_squared_error\n",
        "reg_mse = mean_squared_error(y_test , y_pred_1)\n",
        "reg_rmse = np.sqrt(reg_mse)\n",
        "reg_rmse"
      ],
      "metadata": {
        "execution": {
          "iopub.status.busy": "2022-09-12T13:24:58.826498Z",
          "iopub.execute_input": "2022-09-12T13:24:58.827655Z",
          "iopub.status.idle": "2022-09-12T13:24:58.839691Z",
          "shell.execute_reply.started": "2022-09-12T13:24:58.827598Z",
          "shell.execute_reply": "2022-09-12T13:24:58.838275Z"
        },
        "trusted": true,
        "colab": {
          "base_uri": "https://localhost:8080/"
        },
        "id": "KlgG0r_J4eQg",
        "outputId": "68d320c3-46dd-4861-f265-704356d14524"
      },
      "execution_count": 173,
      "outputs": [
        {
          "output_type": "execute_result",
          "data": {
            "text/plain": [
              "63.604144888113346"
            ]
          },
          "metadata": {},
          "execution_count": 173
        }
      ]
    },
    {
      "cell_type": "markdown",
      "source": [
        "### Ridge Evaluation"
      ],
      "metadata": {
        "id": "45JFYTee4eQh"
      }
    },
    {
      "cell_type": "code",
      "source": [
        "# calculate r2_score for the model\n",
        "rid_score = r2_score(y_test,y_pred_2)\n",
        "rid_score"
      ],
      "metadata": {
        "execution": {
          "iopub.status.busy": "2022-09-12T13:24:58.841550Z",
          "iopub.execute_input": "2022-09-12T13:24:58.843026Z",
          "iopub.status.idle": "2022-09-12T13:24:58.853216Z",
          "shell.execute_reply.started": "2022-09-12T13:24:58.842972Z",
          "shell.execute_reply": "2022-09-12T13:24:58.851898Z"
        },
        "trusted": true,
        "colab": {
          "base_uri": "https://localhost:8080/"
        },
        "id": "d4_sVjfT4eQh",
        "outputId": "5e493212-6d6f-4382-f4fa-3e6d1509f5d4"
      },
      "execution_count": 174,
      "outputs": [
        {
          "output_type": "execute_result",
          "data": {
            "text/plain": [
              "0.612560603130902"
            ]
          },
          "metadata": {},
          "execution_count": 174
        }
      ]
    },
    {
      "cell_type": "code",
      "source": [
        "# calculate adjust r2_score for the model\n",
        "p = len(x_train[0])\n",
        "n = len(y_train)\n",
        "adj_r2 = 1 - (1-rid_score)*(n-1)/(n-p-1)\n",
        "adj_r2"
      ],
      "metadata": {
        "execution": {
          "iopub.status.busy": "2022-09-12T13:24:58.855389Z",
          "iopub.execute_input": "2022-09-12T13:24:58.856523Z",
          "iopub.status.idle": "2022-09-12T13:24:58.906940Z",
          "shell.execute_reply.started": "2022-09-12T13:24:58.856283Z",
          "shell.execute_reply": "2022-09-12T13:24:58.905428Z"
        },
        "trusted": true,
        "colab": {
          "base_uri": "https://localhost:8080/"
        },
        "id": "wSb6hOFl4eQi",
        "outputId": "7eb4d3ab-b2c6-4a6a-cfec-093e8f800889"
      },
      "execution_count": 175,
      "outputs": [
        {
          "output_type": "execute_result",
          "data": {
            "text/plain": [
              "0.6117253472706976"
            ]
          },
          "metadata": {},
          "execution_count": 175
        }
      ]
    },
    {
      "cell_type": "code",
      "source": [
        "# check that adjust r2_score is less than r2_score for the model\n",
        "adj_r2 < rid_score"
      ],
      "metadata": {
        "execution": {
          "iopub.status.busy": "2022-09-12T13:24:58.910412Z",
          "iopub.execute_input": "2022-09-12T13:24:58.911453Z",
          "iopub.status.idle": "2022-09-12T13:24:58.921680Z",
          "shell.execute_reply.started": "2022-09-12T13:24:58.911396Z",
          "shell.execute_reply": "2022-09-12T13:24:58.920554Z"
        },
        "trusted": true,
        "colab": {
          "base_uri": "https://localhost:8080/"
        },
        "id": "e-5fxSdA4eQj",
        "outputId": "d8708cf1-7644-432d-f198-7b2ab635273f"
      },
      "execution_count": 176,
      "outputs": [
        {
          "output_type": "execute_result",
          "data": {
            "text/plain": [
              "True"
            ]
          },
          "metadata": {},
          "execution_count": 176
        }
      ]
    },
    {
      "cell_type": "code",
      "source": [
        "# calculate mean_squared_error\n",
        "rid_mse = mean_squared_error(y_test , y_pred_2)\n",
        "rid_mse"
      ],
      "metadata": {
        "execution": {
          "iopub.status.busy": "2022-09-12T13:24:58.924607Z",
          "iopub.execute_input": "2022-09-12T13:24:58.926261Z",
          "iopub.status.idle": "2022-09-12T13:24:58.938329Z",
          "shell.execute_reply.started": "2022-09-12T13:24:58.926206Z",
          "shell.execute_reply": "2022-09-12T13:24:58.937343Z"
        },
        "trusted": true,
        "colab": {
          "base_uri": "https://localhost:8080/"
        },
        "id": "LaWb1Tnu4eQk",
        "outputId": "5751f238-5efe-443f-9743-b78cf523cc42"
      },
      "execution_count": 177,
      "outputs": [
        {
          "output_type": "execute_result",
          "data": {
            "text/plain": [
              "4046.0422393459803"
            ]
          },
          "metadata": {},
          "execution_count": 177
        }
      ]
    },
    {
      "cell_type": "code",
      "source": [
        "# calculate mean_absolute_error\n",
        "rid_mae = mean_absolute_error(y_test , y_pred_2)\n",
        "rid_mae"
      ],
      "metadata": {
        "execution": {
          "iopub.status.busy": "2022-09-12T13:24:58.942481Z",
          "iopub.execute_input": "2022-09-12T13:24:58.943386Z",
          "iopub.status.idle": "2022-09-12T13:24:58.954564Z",
          "shell.execute_reply.started": "2022-09-12T13:24:58.943311Z",
          "shell.execute_reply": "2022-09-12T13:24:58.953200Z"
        },
        "trusted": true,
        "colab": {
          "base_uri": "https://localhost:8080/"
        },
        "id": "pbTvIu2q4eQk",
        "outputId": "62404453-2c53-4a8b-8eef-b01e5f8f8dbb"
      },
      "execution_count": 178,
      "outputs": [
        {
          "output_type": "execute_result",
          "data": {
            "text/plain": [
              "51.05702765516066"
            ]
          },
          "metadata": {},
          "execution_count": 178
        }
      ]
    },
    {
      "cell_type": "code",
      "source": [
        "# calculate mean_absolute_percentage_error\n",
        "rid_mape = mean_absolute_percentage_error(y_test , y_pred_2)\n",
        "rid_mape"
      ],
      "metadata": {
        "execution": {
          "iopub.status.busy": "2022-09-12T13:24:58.956303Z",
          "iopub.execute_input": "2022-09-12T13:24:58.958419Z",
          "iopub.status.idle": "2022-09-12T13:24:59.003636Z",
          "shell.execute_reply.started": "2022-09-12T13:24:58.958366Z",
          "shell.execute_reply": "2022-09-12T13:24:59.001927Z"
        },
        "trusted": true,
        "colab": {
          "base_uri": "https://localhost:8080/"
        },
        "id": "SO3HR7BH4eQl",
        "outputId": "37897903-f70d-4e69-f7be-b43d624a91db"
      },
      "execution_count": 179,
      "outputs": [
        {
          "output_type": "execute_result",
          "data": {
            "text/plain": [
              "297381923364605.8"
            ]
          },
          "metadata": {},
          "execution_count": 179
        }
      ]
    },
    {
      "cell_type": "code",
      "source": [
        "# calculate root_mean_squared_error\n",
        "rid_mse = mean_squared_error(y_test , y_pred_2)\n",
        "rid_rmse = np.sqrt(reg_mse)\n",
        "rid_rmse"
      ],
      "metadata": {
        "execution": {
          "iopub.status.busy": "2022-09-12T13:24:59.005980Z",
          "iopub.execute_input": "2022-09-12T13:24:59.007024Z",
          "iopub.status.idle": "2022-09-12T13:24:59.017768Z",
          "shell.execute_reply.started": "2022-09-12T13:24:59.006971Z",
          "shell.execute_reply": "2022-09-12T13:24:59.016096Z"
        },
        "trusted": true,
        "colab": {
          "base_uri": "https://localhost:8080/"
        },
        "id": "KRLWy1h24eQm",
        "outputId": "6d70c270-b40b-441c-f54e-e78799459e69"
      },
      "execution_count": 180,
      "outputs": [
        {
          "output_type": "execute_result",
          "data": {
            "text/plain": [
              "63.604144888113346"
            ]
          },
          "metadata": {},
          "execution_count": 180
        }
      ]
    },
    {
      "cell_type": "markdown",
      "source": [
        "### Lasso Evaluation"
      ],
      "metadata": {
        "id": "fJJY7aF64eQn"
      }
    },
    {
      "cell_type": "code",
      "source": [
        "# calculate r2_score for the model\n",
        "lass_score = r2_score(y_test,y_pred_3)"
      ],
      "metadata": {
        "execution": {
          "iopub.status.busy": "2022-09-12T13:24:59.020921Z",
          "iopub.execute_input": "2022-09-12T13:24:59.022184Z",
          "iopub.status.idle": "2022-09-12T13:24:59.029410Z",
          "shell.execute_reply.started": "2022-09-12T13:24:59.022130Z",
          "shell.execute_reply": "2022-09-12T13:24:59.028135Z"
        },
        "trusted": true,
        "id": "y1_HcBgX4eQo"
      },
      "execution_count": 181,
      "outputs": []
    },
    {
      "cell_type": "code",
      "source": [
        "# calculate adjust r2_score for the model\n",
        "p = len(x_train[0])\n",
        "n = len(y_train)\n",
        "adj_r2 = 1 - (1-lass_score)*(n-1)/(n-p-1)\n",
        "adj_r2"
      ],
      "metadata": {
        "execution": {
          "iopub.status.busy": "2022-09-12T13:24:59.031481Z",
          "iopub.execute_input": "2022-09-12T13:24:59.032493Z",
          "iopub.status.idle": "2022-09-12T13:24:59.044884Z",
          "shell.execute_reply.started": "2022-09-12T13:24:59.032290Z",
          "shell.execute_reply": "2022-09-12T13:24:59.043527Z"
        },
        "trusted": true,
        "colab": {
          "base_uri": "https://localhost:8080/"
        },
        "id": "LKCB6SUv4eQp",
        "outputId": "ad6e3292-da56-4f5f-f3c6-988481f4a2bb"
      },
      "execution_count": 182,
      "outputs": [
        {
          "output_type": "execute_result",
          "data": {
            "text/plain": [
              "0.607841235130375"
            ]
          },
          "metadata": {},
          "execution_count": 182
        }
      ]
    },
    {
      "cell_type": "code",
      "source": [
        "# check that adjust r2_score is less than r2_score for the model\n",
        "adj_r2 < lass_score"
      ],
      "metadata": {
        "execution": {
          "iopub.status.busy": "2022-09-12T13:24:59.047249Z",
          "iopub.execute_input": "2022-09-12T13:24:59.048147Z",
          "iopub.status.idle": "2022-09-12T13:24:59.058354Z",
          "shell.execute_reply.started": "2022-09-12T13:24:59.048092Z",
          "shell.execute_reply": "2022-09-12T13:24:59.057128Z"
        },
        "trusted": true,
        "colab": {
          "base_uri": "https://localhost:8080/"
        },
        "id": "uSTMHGIY4eQq",
        "outputId": "e98c1d29-d95d-4e5a-aef5-d23445ffe154"
      },
      "execution_count": 183,
      "outputs": [
        {
          "output_type": "execute_result",
          "data": {
            "text/plain": [
              "True"
            ]
          },
          "metadata": {},
          "execution_count": 183
        }
      ]
    },
    {
      "cell_type": "code",
      "source": [
        "# calculate mean_squared_error\n",
        "lass_mse = mean_squared_error(y_test , y_pred_3)\n",
        "lass_mse"
      ],
      "metadata": {
        "execution": {
          "iopub.status.busy": "2022-09-12T13:24:59.060240Z",
          "iopub.execute_input": "2022-09-12T13:24:59.101176Z",
          "iopub.status.idle": "2022-09-12T13:24:59.112520Z",
          "shell.execute_reply.started": "2022-09-12T13:24:59.101052Z",
          "shell.execute_reply": "2022-09-12T13:24:59.111262Z"
        },
        "trusted": true,
        "colab": {
          "base_uri": "https://localhost:8080/"
        },
        "id": "mHeO7ZhZ4eQr",
        "outputId": "bc0de261-6b65-41f2-d52e-cf4b8dba3bd7"
      },
      "execution_count": 184,
      "outputs": [
        {
          "output_type": "execute_result",
          "data": {
            "text/plain": [
              "4086.5168922022344"
            ]
          },
          "metadata": {},
          "execution_count": 184
        }
      ]
    },
    {
      "cell_type": "code",
      "source": [
        "# calculate mean_absolute_error\n",
        "lass_mae = mean_absolute_error(y_test , y_pred_3)\n",
        "lass_mae"
      ],
      "metadata": {
        "execution": {
          "iopub.status.busy": "2022-09-12T13:24:59.114672Z",
          "iopub.execute_input": "2022-09-12T13:24:59.115978Z",
          "iopub.status.idle": "2022-09-12T13:24:59.126475Z",
          "shell.execute_reply.started": "2022-09-12T13:24:59.115922Z",
          "shell.execute_reply": "2022-09-12T13:24:59.125041Z"
        },
        "trusted": true,
        "colab": {
          "base_uri": "https://localhost:8080/"
        },
        "id": "aLoLnAzS4eQs",
        "outputId": "fa44174b-b0fc-42cb-9a41-36d6d2cb0eaf"
      },
      "execution_count": 185,
      "outputs": [
        {
          "output_type": "execute_result",
          "data": {
            "text/plain": [
              "51.50143359085177"
            ]
          },
          "metadata": {},
          "execution_count": 185
        }
      ]
    },
    {
      "cell_type": "code",
      "source": [
        "# calculate mean_absolute_percentage_error\n",
        "lass_mape = mean_absolute_percentage_error(y_test , y_pred_3)\n",
        "lass_mape"
      ],
      "metadata": {
        "execution": {
          "iopub.status.busy": "2022-09-12T13:24:59.128390Z",
          "iopub.execute_input": "2022-09-12T13:24:59.129264Z",
          "iopub.status.idle": "2022-09-12T13:24:59.142049Z",
          "shell.execute_reply.started": "2022-09-12T13:24:59.129212Z",
          "shell.execute_reply": "2022-09-12T13:24:59.140145Z"
        },
        "trusted": true,
        "colab": {
          "base_uri": "https://localhost:8080/"
        },
        "id": "L0p5124b4eQt",
        "outputId": "1389485f-5895-4806-8fd3-a8e2700d552e"
      },
      "execution_count": 186,
      "outputs": [
        {
          "output_type": "execute_result",
          "data": {
            "text/plain": [
              "297322718864852.2"
            ]
          },
          "metadata": {},
          "execution_count": 186
        }
      ]
    },
    {
      "cell_type": "code",
      "source": [
        "# calculate root_mean_squared_error\n",
        "lass_mse = mean_squared_error(y_test , y_pred_3)\n",
        "lass_rmse = np.sqrt(reg_mse)\n",
        "lass_rmse"
      ],
      "metadata": {
        "execution": {
          "iopub.status.busy": "2022-09-12T13:24:59.144459Z",
          "iopub.execute_input": "2022-09-12T13:24:59.145537Z",
          "iopub.status.idle": "2022-09-12T13:24:59.157589Z",
          "shell.execute_reply.started": "2022-09-12T13:24:59.145484Z",
          "shell.execute_reply": "2022-09-12T13:24:59.156225Z"
        },
        "trusted": true,
        "colab": {
          "base_uri": "https://localhost:8080/"
        },
        "id": "7g54a2Yf4eQu",
        "outputId": "23d27dd6-bf32-414b-b535-2835c74338ba"
      },
      "execution_count": 187,
      "outputs": [
        {
          "output_type": "execute_result",
          "data": {
            "text/plain": [
              "63.604144888113346"
            ]
          },
          "metadata": {},
          "execution_count": 187
        }
      ]
    },
    {
      "cell_type": "markdown",
      "source": [
        "# Comapring The Three Models"
      ],
      "metadata": {
        "id": "xLq6yJTr4eQv"
      }
    },
    {
      "cell_type": "code",
      "source": [
        "models = [\"Linear\",\"Ridge\",\"Lasso\"]\n",
        "data = [[reg_score,reg_mse],[rid_score,rid_mse],[lass_score,lass_mse]]\n",
        "cols = ['r2_score','RMSE']\n",
        "pd.DataFrame(data = data , columns=cols , index = models).sort_values(ascending=False , by=[\"r2_score\"])"
      ],
      "metadata": {
        "execution": {
          "iopub.status.busy": "2022-09-12T13:24:59.162388Z",
          "iopub.execute_input": "2022-09-12T13:24:59.162775Z",
          "iopub.status.idle": "2022-09-12T13:24:59.220027Z",
          "shell.execute_reply.started": "2022-09-12T13:24:59.162740Z",
          "shell.execute_reply": "2022-09-12T13:24:59.219162Z"
        },
        "trusted": true,
        "colab": {
          "base_uri": "https://localhost:8080/",
          "height": 143
        },
        "id": "d84wxIyf4eQv",
        "outputId": "3ac2b265-fa20-4beb-fc95-6eab91e97036"
      },
      "execution_count": 188,
      "outputs": [
        {
          "output_type": "execute_result",
          "data": {
            "text/plain": [
              "        r2_score         RMSE\n",
              "Linear  0.612614  4045.487247\n",
              "Ridge   0.612561  4046.042239\n",
              "Lasso   0.608685  4086.516892"
            ],
            "text/html": [
              "\n",
              "  <div id=\"df-0763e4f9-a559-4129-9485-a9d995fd0a63\">\n",
              "    <div class=\"colab-df-container\">\n",
              "      <div>\n",
              "<style scoped>\n",
              "    .dataframe tbody tr th:only-of-type {\n",
              "        vertical-align: middle;\n",
              "    }\n",
              "\n",
              "    .dataframe tbody tr th {\n",
              "        vertical-align: top;\n",
              "    }\n",
              "\n",
              "    .dataframe thead th {\n",
              "        text-align: right;\n",
              "    }\n",
              "</style>\n",
              "<table border=\"1\" class=\"dataframe\">\n",
              "  <thead>\n",
              "    <tr style=\"text-align: right;\">\n",
              "      <th></th>\n",
              "      <th>r2_score</th>\n",
              "      <th>RMSE</th>\n",
              "    </tr>\n",
              "  </thead>\n",
              "  <tbody>\n",
              "    <tr>\n",
              "      <th>Linear</th>\n",
              "      <td>0.612614</td>\n",
              "      <td>4045.487247</td>\n",
              "    </tr>\n",
              "    <tr>\n",
              "      <th>Ridge</th>\n",
              "      <td>0.612561</td>\n",
              "      <td>4046.042239</td>\n",
              "    </tr>\n",
              "    <tr>\n",
              "      <th>Lasso</th>\n",
              "      <td>0.608685</td>\n",
              "      <td>4086.516892</td>\n",
              "    </tr>\n",
              "  </tbody>\n",
              "</table>\n",
              "</div>\n",
              "      <button class=\"colab-df-convert\" onclick=\"convertToInteractive('df-0763e4f9-a559-4129-9485-a9d995fd0a63')\"\n",
              "              title=\"Convert this dataframe to an interactive table.\"\n",
              "              style=\"display:none;\">\n",
              "        \n",
              "  <svg xmlns=\"http://www.w3.org/2000/svg\" height=\"24px\"viewBox=\"0 0 24 24\"\n",
              "       width=\"24px\">\n",
              "    <path d=\"M0 0h24v24H0V0z\" fill=\"none\"/>\n",
              "    <path d=\"M18.56 5.44l.94 2.06.94-2.06 2.06-.94-2.06-.94-.94-2.06-.94 2.06-2.06.94zm-11 1L8.5 8.5l.94-2.06 2.06-.94-2.06-.94L8.5 2.5l-.94 2.06-2.06.94zm10 10l.94 2.06.94-2.06 2.06-.94-2.06-.94-.94-2.06-.94 2.06-2.06.94z\"/><path d=\"M17.41 7.96l-1.37-1.37c-.4-.4-.92-.59-1.43-.59-.52 0-1.04.2-1.43.59L10.3 9.45l-7.72 7.72c-.78.78-.78 2.05 0 2.83L4 21.41c.39.39.9.59 1.41.59.51 0 1.02-.2 1.41-.59l7.78-7.78 2.81-2.81c.8-.78.8-2.07 0-2.86zM5.41 20L4 18.59l7.72-7.72 1.47 1.35L5.41 20z\"/>\n",
              "  </svg>\n",
              "      </button>\n",
              "      \n",
              "  <style>\n",
              "    .colab-df-container {\n",
              "      display:flex;\n",
              "      flex-wrap:wrap;\n",
              "      gap: 12px;\n",
              "    }\n",
              "\n",
              "    .colab-df-convert {\n",
              "      background-color: #E8F0FE;\n",
              "      border: none;\n",
              "      border-radius: 50%;\n",
              "      cursor: pointer;\n",
              "      display: none;\n",
              "      fill: #1967D2;\n",
              "      height: 32px;\n",
              "      padding: 0 0 0 0;\n",
              "      width: 32px;\n",
              "    }\n",
              "\n",
              "    .colab-df-convert:hover {\n",
              "      background-color: #E2EBFA;\n",
              "      box-shadow: 0px 1px 2px rgba(60, 64, 67, 0.3), 0px 1px 3px 1px rgba(60, 64, 67, 0.15);\n",
              "      fill: #174EA6;\n",
              "    }\n",
              "\n",
              "    [theme=dark] .colab-df-convert {\n",
              "      background-color: #3B4455;\n",
              "      fill: #D2E3FC;\n",
              "    }\n",
              "\n",
              "    [theme=dark] .colab-df-convert:hover {\n",
              "      background-color: #434B5C;\n",
              "      box-shadow: 0px 1px 3px 1px rgba(0, 0, 0, 0.15);\n",
              "      filter: drop-shadow(0px 1px 2px rgba(0, 0, 0, 0.3));\n",
              "      fill: #FFFFFF;\n",
              "    }\n",
              "  </style>\n",
              "\n",
              "      <script>\n",
              "        const buttonEl =\n",
              "          document.querySelector('#df-0763e4f9-a559-4129-9485-a9d995fd0a63 button.colab-df-convert');\n",
              "        buttonEl.style.display =\n",
              "          google.colab.kernel.accessAllowed ? 'block' : 'none';\n",
              "\n",
              "        async function convertToInteractive(key) {\n",
              "          const element = document.querySelector('#df-0763e4f9-a559-4129-9485-a9d995fd0a63');\n",
              "          const dataTable =\n",
              "            await google.colab.kernel.invokeFunction('convertToInteractive',\n",
              "                                                     [key], {});\n",
              "          if (!dataTable) return;\n",
              "\n",
              "          const docLinkHtml = 'Like what you see? Visit the ' +\n",
              "            '<a target=\"_blank\" href=https://colab.research.google.com/notebooks/data_table.ipynb>data table notebook</a>'\n",
              "            + ' to learn more about interactive tables.';\n",
              "          element.innerHTML = '';\n",
              "          dataTable['output_type'] = 'display_data';\n",
              "          await google.colab.output.renderOutput(dataTable, element);\n",
              "          const docLink = document.createElement('div');\n",
              "          docLink.innerHTML = docLinkHtml;\n",
              "          element.appendChild(docLink);\n",
              "        }\n",
              "      </script>\n",
              "    </div>\n",
              "  </div>\n",
              "  "
            ]
          },
          "metadata": {},
          "execution_count": 188
        }
      ]
    }
  ]
}